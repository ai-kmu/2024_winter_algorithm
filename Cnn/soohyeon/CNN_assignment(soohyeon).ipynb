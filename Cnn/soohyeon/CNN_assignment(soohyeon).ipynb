{
  "nbformat": 4,
  "nbformat_minor": 0,
  "metadata": {
    "colab": {
      "provenance": [],
      "gpuType": "T4"
    },
    "kernelspec": {
      "name": "python3",
      "display_name": "Python 3"
    },
    "language_info": {
      "name": "python"
    },
    "accelerator": "GPU"
  },
  "cells": [
    {
      "cell_type": "code",
      "execution_count": 1,
      "metadata": {
        "colab": {
          "base_uri": "https://localhost:8080/"
        },
        "id": "pRwOu97AlVj9",
        "outputId": "d6a85d37-8c25-4ec9-9156-abae3f0b4b91"
      },
      "outputs": [
        {
          "output_type": "stream",
          "name": "stdout",
          "text": [
            "mkdir: cannot create directory ‘results’: File exists\n"
          ]
        }
      ],
      "source": [
        "!mkdir results"
      ]
    },
    {
      "cell_type": "code",
      "source": [
        "import torch\n",
        "import torchvision\n",
        "import torchvision.transforms as transforms\n",
        "import torch.nn as nn\n",
        "import torch.nn.functional as F\n",
        "import torch.optim as optim\n",
        "import argparse\n",
        "import numpy as np\n",
        "import time\n",
        "from copy import deepcopy # Add Deepcopy for args\n",
        "import seaborn as sns\n",
        "import matplotlib.pyplot as plt\n",
        "import numpy"
      ],
      "metadata": {
        "id": "0g9ytA64lnit"
      },
      "execution_count": 2,
      "outputs": []
    },
    {
      "cell_type": "code",
      "source": [
        "from torch.utils.data import Subset\n",
        "import numpy as np\n",
        "\n",
        "transform = transforms.Compose(                                 # 이미지 변환을 위한 파이프라인\n",
        "    [transforms.ToTensor(),                                     # PyToch 텐서로 변환 -> 이미지를 0~1사이 값으로 만듦\n",
        "     transforms.Normalize((0.5, 0.5, 0.5), (0.5, 0.5, 0.5))])   # 이미지를 정규화함 -> 평균, 표준편차 (0.5, 0.5, 0.5) -> 각 채널의 값이 -1에서 1 사이로 정규화\n",
        "\n",
        "# CIFAR100 train dataset 가져오기\n",
        "trainset = torchvision.datasets.CIFAR100(root='./data', train=True,\n",
        "                                        download=True, transform=transform)\n",
        "\n",
        "# 클래스별로 인덱스를 저장할 딕셔너리 생성\n",
        "class_indices = {class_idx: [] for class_idx in range(len(trainset.classes))}\n",
        "\n",
        "# 각 데이터의 클래스 인덱스를 확인하고 해당하는 클래스 인덱스에 해당하는 리스트에 인덱스 저장\n",
        "for idx, (_, label) in enumerate(trainset):\n",
        "    class_indices[label].append(idx)\n",
        "\n",
        "# 클래스별로 train set과 validation set의 크기 결정\n",
        "train_size_per_class = int(0.8 * len(trainset) / len(trainset.classes))\n",
        "valid_size_per_class = len(trainset) // len(trainset.classes) - train_size_per_class\n",
        "\n",
        "# train set과 validation set을 담을 리스트 초기화\n",
        "train_indices = []\n",
        "valid_indices = []\n",
        "\n",
        "# 클래스별로 데이터를 train set과 validation set으로 분할\n",
        "for class_idx, indices in class_indices.items():\n",
        "    # 클래스별로 인덱스를 랜덤하게 섞음\n",
        "    np.random.shuffle(indices)\n",
        "    # train set에 해당하는 인덱스와 validation set에 해당하는 인덱스를 각각 추가\n",
        "    train_indices.extend(indices[:train_size_per_class])\n",
        "    valid_indices.extend(indices[train_size_per_class:train_size_per_class+valid_size_per_class])\n",
        "\n",
        "# train set과 validation set을 Subset으로 생성\n",
        "train_subset = Subset(trainset, train_indices)\n",
        "valid_subset = Subset(trainset, valid_indices)\n",
        "\n",
        "# partition에 추가\n",
        "partition = {'train': train_subset, 'val': valid_subset}\n",
        "\n",
        "# 갯수 확인\n",
        "train_dataset_size = len(train_subset)\n",
        "valid_dataset_size = len(valid_subset)\n",
        "print(train_dataset_size, valid_dataset_size)"
      ],
      "metadata": {
        "colab": {
          "base_uri": "https://localhost:8080/"
        },
        "id": "xp9-Sfhalpei",
        "outputId": "fc88ec75-6638-48f3-f2df-db4cf702ab3b"
      },
      "execution_count": 3,
      "outputs": [
        {
          "output_type": "stream",
          "name": "stdout",
          "text": [
            "Files already downloaded and verified\n",
            "40000 10000\n"
          ]
        }
      ]
    },
    {
      "cell_type": "code",
      "source": [
        "# dataset가 잘 load 되었는지 체크\n",
        "sample = trainset[1][0].numpy()\n",
        "sample = numpy.transpose(sample, (1,2,0))\n",
        "height, width, _ = sample.shape\n",
        "plt.imshow(sample)\n",
        "print(height, width)"
      ],
      "metadata": {
        "colab": {
          "base_uri": "https://localhost:8080/",
          "height": 465
        },
        "id": "hEgECYuWnP20",
        "outputId": "50345c75-8971-40e0-d0a8-54f7b4ef111d"
      },
      "execution_count": 4,
      "outputs": [
        {
          "output_type": "stream",
          "name": "stderr",
          "text": [
            "WARNING:matplotlib.image:Clipping input data to the valid range for imshow with RGB data ([0..1] for floats or [0..255] for integers).\n"
          ]
        },
        {
          "output_type": "stream",
          "name": "stdout",
          "text": [
            "32 32\n"
          ]
        },
        {
          "output_type": "display_data",
          "data": {
            "text/plain": [
              "<Figure size 640x480 with 1 Axes>"
            ],
            "image/png": "[encoded data removed]"
          },
          "metadata": {}
        }
      ]
    },
    {
      "cell_type": "code",
      "source": [
        "# backborn model 지정\n",
        "# VGGnet기반 숫자는 filter size, M은 Max pooling\n",
        "cfg = {\n",
        "    'VGG11': [64, 'M', 128, 'M', 256, 256, 'M', 512, 512, 'M', 512, 512, 'M'],\n",
        "    'VGG13': [64, 64, 'M', 128, 128, 'M', 256, 256, 'M', 512, 512, 'M', 512, 512, 'M'],\n",
        "    'VGG16': [64, 64, 'M', 128, 128, 'M', 256, 256, 256, 'M', 512, 512, 512, 'M', 512, 512, 512, 'M'],\n",
        "    'VGG19': [64, 64, 'M', 128, 128, 'M', 256, 256, 256, 256, 'M', 512, 512, 512, 512, 'M', 512, 512, 512, 512, 'M'],\n",
        "}"
      ],
      "metadata": {
        "id": "3FVcjr4qnTzr"
      },
      "execution_count": 5,
      "outputs": []
    },
    {
      "cell_type": "code",
      "source": [
        "# CNN Architecture 지정\n",
        "\n",
        "class CNN(nn.Module):\n",
        "\n",
        "    def __init__(self, model_code, in_channels, out_dim, act, use_bn):\n",
        "        super(CNN, self).__init__()\n",
        "\n",
        "        # activation function 설정\n",
        "        if act == 'relu':\n",
        "            self.act = nn.ReLU()\n",
        "        elif act == 'sigmoid':\n",
        "            self.act = nn.Sigmoid()\n",
        "        elif act == 'tanh':\n",
        "            self.act = nn.TanH()\n",
        "        else:\n",
        "            raise ValueError(\"Not a valid activation function code\")\n",
        "\n",
        "        # CNN 레이어들을 생성하는 함수 호출하여 레이어 생성\n",
        "        self.layers = self._make_layers(model_code, in_channels, use_bn)\n",
        "        self.dropout1 = nn.Dropout(0.3)\n",
        "        self.classifer = nn.Sequential(nn.Linear(512, 256),\n",
        "                                       self.act,\n",
        "                                       self.dropout1,\n",
        "                                       nn.Linear(256, out_dim))\n",
        "    # forward 연산 정의\n",
        "    def forward(self, x):\n",
        "        x = self.layers(x)        # CNN 레이어들을 통과\n",
        "        x = x.view(x.size(0), -1) # Flatten 연산, 배치 크기는 유지하고 나머지 차원을 펼침\n",
        "        x = self.classifer(x)     # Classifier 통과\n",
        "        return x\n",
        "\n",
        "    # CNN 레이어들을 생성하는 함수\n",
        "    def _make_layers(self, model_code, in_channels, use_bn):\n",
        "        layers = []\n",
        "        for x in cfg[model_code]:\n",
        "            if x == 'M':\n",
        "                # MaxPooling 레이어 생성\n",
        "                layers += [nn.MaxPool2d(kernel_size=2, stride=2)]\n",
        "            else:\n",
        "                # Convolution layer 구성\n",
        "                layers += [nn.Conv2d(in_channels=in_channels,\n",
        "                                     out_channels=x,  # out_channels은 forward 연산 이후 x\n",
        "                                     kernel_size=3,   # CNN kernel_size\n",
        "                                     stride=1,        # CNN kernel의 stride\n",
        "                                     padding=1)]      # CNN kernel의 padding\n",
        "\n",
        "                # BN(Batch Normalization을 사용하는 경우 아래를 사용)\n",
        "                if use_bn:\n",
        "                    layers += [nn.BatchNorm2d(x)]\n",
        "                layers += [self.act]   # 레이어 이후 활성화 함수 적용\n",
        "                in_channels = x        # 다음 들어가야하는 레이어에 입력 채널 수 업데이트\n",
        "\n",
        "        return nn.Sequential(*layers)  # 생성된 레이어들을 순차적으로 적용하여 모델을 정의(layer 리스트 내의 모든 레이어를 순차적으로 적용하여 하나의 시퀀스로 묶음)"
      ],
      "metadata": {
        "id": "7V-4zbErncCw"
      },
      "execution_count": 6,
      "outputs": []
    },
    {
      "cell_type": "code",
      "source": [
        "# train session\n",
        "def train(net, partition, optimizer, criterion, args):\n",
        "    # trainset을 가져와서 batch_size, shuffle, num_workers(병렬적으로 데이터를 로드)\n",
        "    trainloader = torch.utils.data.DataLoader(partition['train'],\n",
        "                                              batch_size=args.train_batch_size,\n",
        "                                              shuffle=True, num_workers=2)\n",
        "    net.train() # 학습모드 설정\n",
        "\n",
        "    correct = 0 # 맞은 예측 수\n",
        "    total = 0 # 전체 데이터 수\n",
        "    train_loss = 0.0 # train_loss\n",
        "    for i, data in enumerate(trainloader, 0): # 각 배치에 대해 반복\n",
        "        optimizer.zero_grad() # 옵티마이저 그래디언트 초기화 -> 다음 step으로 가기 위함\n",
        "\n",
        "        # input(입력 데이터, 레이블)\n",
        "        inputs, labels = data\n",
        "        inputs = inputs.cuda() # GPU 연산을 위해 GPU전송\n",
        "        labels = labels.cuda() # GPU 연산을 위해 GPU전송\n",
        "        outputs = net(inputs)  # network를 통과한 output값 (예측값)\n",
        "\n",
        "        loss = criterion(outputs, labels) # loss 계산\n",
        "        loss.backward() # backpropagaion\n",
        "        optimizer.step() # optimizer step\n",
        "\n",
        "        train_loss += loss.item() # loss를 추가\n",
        "        _, predicted = torch.max(outputs.data, 1) # output에서 가장 높은 확률값의 class 선택\n",
        "        total += labels.size(0) # 데이터 수 업데이트\n",
        "        correct += (predicted == labels).sum().item() # predict update(correct)\n",
        "\n",
        "    train_loss = train_loss / len(trainloader)  # 평균 loss\n",
        "    train_acc = 100 * correct / total # accuracy\n",
        "    return net, train_loss, train_acc"
      ],
      "metadata": {
        "id": "bxSJ7HiSn4Hc"
      },
      "execution_count": 7,
      "outputs": []
    },
    {
      "cell_type": "code",
      "source": [
        "# validation seccison\n",
        "def validate(net, partition, criterion, args):\n",
        "    # validation set을 가져와서 batch_size, shuffle, num_workers(병렬적으로 데이터를 로드)\n",
        "    valloader = torch.utils.data.DataLoader(partition['val'],\n",
        "                                            batch_size=args.test_batch_size,\n",
        "                                            shuffle=False, num_workers=2)\n",
        "\n",
        "    net.eval()  # 네트워크를 평가 모드 -> backprop을 안하기를 위한 목적도 있지만 Dropout이 적용될 경우 적용하지 않기 위함도 존재\n",
        "\n",
        "    correct = 0 # 맞은 예측 수\n",
        "    total = 0 # 전체 데이터 수\n",
        "    val_loss = 0 # validation_loss\n",
        "    with torch.no_grad(): # graident X\n",
        "        for data in valloader:  # 배치마다 data 반복\n",
        "            images, labels = data\n",
        "            images = images.cuda()  # GPU 연산을 위해 GPU전송\n",
        "            labels = labels.cuda()  # GPU 연산을 위해 GPU전송\n",
        "            outputs = net(images)   # network를 통과한 output값 (예측값)\n",
        "\n",
        "            loss = criterion(outputs, labels) # loss 계산\n",
        "\n",
        "            val_loss += loss.item() # loss를 추가\n",
        "            _, predicted = torch.max(outputs.data, 1) # output에서 가장 높은 확률값의 class 선택\n",
        "            total += labels.size(0) # 데이터 수 업데이트\n",
        "            correct += (predicted == labels).sum().item() # predict update(correct)\n",
        "\n",
        "        val_loss = val_loss / len(valloader)  # 평균 loss\n",
        "        val_acc = 100 * correct / total # accuracy\n",
        "    return val_loss, val_acc"
      ],
      "metadata": {
        "id": "3YX6Pz_Sn4os"
      },
      "execution_count": 8,
      "outputs": []
    },
    {
      "cell_type": "code",
      "source": [
        "def experiment(partition, args):\n",
        "\n",
        "    # CNN model 지정\n",
        "    net = CNN(model_code = args.model_code,\n",
        "              in_channels = args.in_channels,\n",
        "              out_dim = args.out_dim,\n",
        "              act = args.act,\n",
        "              use_bn = args.use_bn\n",
        "              )\n",
        "    # GPU 연산을 위해 cuda로\n",
        "    net.cuda()\n",
        "\n",
        "    criterion = nn.CrossEntropyLoss() # loss 계산(class 분류)을 위한 Loss계산법 정의\n",
        "    if args.optim == 'SGD': # SGD를 사용할 때\n",
        "        optimizer = optim.SGD(net.parameters(), lr=args.lr, weight_decay=args.l2)\n",
        "    elif args.optim == 'RMSprop': # RMSProp를 사용할 때\n",
        "        optimizer = optim.RMSprop(net.parameters(), lr=args.lr, weight_decay=args.l2)\n",
        "    elif args.optim == 'Adam':  # Adam를 사용할 때\n",
        "        optimizer = optim.Adam(net.parameters(), lr=args.lr, weight_decay=args.l2)\n",
        "    else:\n",
        "        raise ValueError('In-valid optimizer choice') # 위의 optim을 사용하지 않았을때 Error송출\n",
        "\n",
        "    # 각 loss, acc에 대해 저장할 리스트 생성\n",
        "    train_losses = []\n",
        "    val_losses = []\n",
        "    train_accs = []\n",
        "    val_accs = []\n",
        "\n",
        "\n",
        "    for epoch in range(args.epoch):  # loop over the dataset multiple times\n",
        "        ts = time.time()  # 학습시간을 계산하기 위해 초기 시간 기록\n",
        "        net, train_loss, train_acc = train(net, partition, optimizer, criterion, args) # 위에서 정의 한 train function 호출\n",
        "        val_loss, val_acc = validate(net, partition, criterion, args) # 위에서 정의한 validation\n",
        "        te = time.time() # 종료 시간 -> 한번 학습이 돌아갔을때의 시간 (te - ts -> 학습시간)\n",
        "\n",
        "        # 각 loss를 저장함\n",
        "        train_losses.append(train_loss)\n",
        "        val_losses.append(val_loss)\n",
        "        train_accs.append(train_acc)\n",
        "        val_accs.append(val_acc)\n",
        "\n",
        "        # 한 epoch당 acc, loss를 뱉어줌\n",
        "        print('Epoch {}, Acc(train/val): {:2.2f}/{:2.2f}, Loss(train/val) {:2.2f}/{:2.2f}. Took {:2.2f} sec'.format(epoch, train_acc, val_acc, train_loss, val_loss, te-ts))\n",
        "\n",
        "        # 매 에폭이 끝날 때마다 모델의 가중치를 저장\n",
        "        if (epoch + 1) % 10 == 0:\n",
        "            weight_save_path = f\"saved_weights_epoch_{epoch + 1}.pth\"  # 에폭에 따른 파일명 생성\n",
        "            torch.save(net.state_dict(), weight_save_path)\n",
        "\n",
        "    # test를 할 떄 불러옴\n",
        "    #test_acc = test(net, partition, args)\n",
        "\n",
        "    # 결과를 result에 따로 저장함\n",
        "    result = {}\n",
        "    result['train_losses'] = train_losses\n",
        "    result['val_losses'] = val_losses\n",
        "    result['train_accs'] = train_accs\n",
        "    result['val_accs'] = val_accs\n",
        "    result['train_acc'] = train_acc\n",
        "    result['val_acc'] = val_acc\n",
        "    #result['test_acc'] = test_acc\n",
        "    return vars(args), result"
      ],
      "metadata": {
        "id": "wpl8Votsn6fo"
      },
      "execution_count": 9,
      "outputs": []
    },
    {
      "cell_type": "code",
      "source": [
        "import hashlib\n",
        "import json\n",
        "from os import listdir\n",
        "from os.path import isfile, join\n",
        "import pandas as pd\n",
        "\n",
        "def save_exp_result(setting, result):\n",
        "    exp_name = setting['exp_name']  # exp_name을 가져옴\n",
        "    del setting['epoch']  # epoch key delete\n",
        "    del setting['test_batch_size']  # test_batch delete\n",
        "\n",
        "    hash_key = hashlib.sha1(str(setting).encode()).hexdigest()[:6]  # 설정을 해싱\n",
        "    filename = './results/{}-{}.json'.format(exp_name, hash_key)  # 결과를 저장할 파일 경로 지정\n",
        "    result.update(setting)  # 설정을 result에 update\n",
        "    with open(filename, 'w') as f:  # exp_name, hash_key를 가지는 파일 이름으로 저장\n",
        "        json.dump(result, f)"
      ],
      "metadata": {
        "id": "Sd1-sjPfoABU"
      },
      "execution_count": 10,
      "outputs": []
    },
    {
      "cell_type": "code",
      "source": [
        "# ====== Random Seed Initialization ====== #\n",
        "# 동일한 코드를 여러번 실행할 때 동일한 결과를 얻을 수 있는데 이를 방지하기 위함\n",
        "seed = 123\n",
        "np.random.seed(seed)  # numpy random seed\n",
        "torch.manual_seed(seed) # torch random seed\n",
        "\n",
        "parser = argparse.ArgumentParser()  # 명령행 옵션을 파싱\n",
        "args = parser.parse_args(\"\")  # 파싱 이후 결과 저장\n",
        "args.exp_name = \"exp1_lr_model_code\"  # exp_name 저장\n",
        "\n",
        "# ====== Model ====== #\n",
        "args.model_code = 'VGG11'\n",
        "args.in_channels = 3  # input channel\n",
        "args.out_dim = 100   # output channel\n",
        "args.act = 'relu'   # activation function\n",
        "\n",
        "# ====== Regularization ======= #\n",
        "args.l2 = 0.01   # L2 Norm\n",
        "args.use_bn = True  # Batch Normalization\n",
        "\n",
        "# ====== Optimizer & Training ====== #\n",
        "args.optim = 'Adam' #'RMSprop' #SGD, RMSprop, ADAM...\n",
        "args.lr = 0.00005  # learning rate\n",
        "args.epoch = 100   # epoch\n",
        "\n",
        "args.train_batch_size = 512 # train_batch_size\n",
        "args.test_batch_size = 1024 # test_batch_size\n",
        "\n",
        "setting, result = experiment(partition, args)\n",
        "save_exp_result(setting, result)\n"
      ],
      "metadata": {
        "colab": {
          "base_uri": "https://localhost:8080/",
          "height": 1000
        },
        "id": "PdwHqG1OoDiX",
        "outputId": "b6d4a46d-9575-4085-88e2-341669f21dad"
      },
      "execution_count": 11,
      "outputs": [
        {
          "output_type": "stream",
          "name": "stdout",
          "text": [
            "Epoch 0, Acc(train/val): 7.30/13.97, Loss(train/val) 4.29/3.95. Took 14.92 sec\n",
            "Epoch 1, Acc(train/val): 16.64/23.47, Loss(train/val) 3.72/3.46. Took 14.13 sec\n",
            "Epoch 2, Acc(train/val): 24.07/28.56, Loss(train/val) 3.28/3.12. Took 14.26 sec\n",
            "Epoch 3, Acc(train/val): 31.36/32.01, Loss(train/val) 2.90/2.87. Took 14.91 sec\n",
            "Epoch 4, Acc(train/val): 38.99/34.20, Loss(train/val) 2.54/2.77. Took 18.23 sec\n",
            "Epoch 5, Acc(train/val): 47.12/36.09, Loss(train/val) 2.19/2.65. Took 16.76 sec\n",
            "Epoch 6, Acc(train/val): 56.84/36.94, Loss(train/val) 1.82/2.59. Took 14.37 sec\n",
            "Epoch 7, Acc(train/val): 67.19/36.90, Loss(train/val) 1.45/2.58. Took 14.50 sec\n",
            "Epoch 8, Acc(train/val): 77.77/36.92, Loss(train/val) 1.08/2.61. Took 14.80 sec\n",
            "Epoch 9, Acc(train/val): 86.91/37.25, Loss(train/val) 0.75/2.58. Took 14.12 sec\n",
            "Epoch 10, Acc(train/val): 93.33/36.56, Loss(train/val) 0.49/2.67. Took 14.75 sec\n",
            "Epoch 11, Acc(train/val): 96.93/37.05, Loss(train/val) 0.32/2.65. Took 14.57 sec\n",
            "Epoch 12, Acc(train/val): 98.64/36.64, Loss(train/val) 0.21/2.68. Took 14.88 sec\n",
            "Epoch 13, Acc(train/val): 99.47/36.99, Loss(train/val) 0.15/2.70. Took 14.50 sec\n",
            "Epoch 14, Acc(train/val): 99.70/37.77, Loss(train/val) 0.12/2.67. Took 14.80 sec\n",
            "Epoch 15, Acc(train/val): 99.84/37.65, Loss(train/val) 0.09/2.69. Took 14.45 sec\n",
            "Epoch 16, Acc(train/val): 99.92/37.62, Loss(train/val) 0.08/2.69. Took 14.18 sec\n",
            "Epoch 17, Acc(train/val): 99.91/37.57, Loss(train/val) 0.08/2.71. Took 14.55 sec\n",
            "Epoch 18, Acc(train/val): 99.89/37.97, Loss(train/val) 0.06/2.70. Took 14.27 sec\n",
            "Epoch 19, Acc(train/val): 99.96/37.81, Loss(train/val) 0.05/2.71. Took 14.21 sec\n",
            "Epoch 20, Acc(train/val): 99.97/38.10, Loss(train/val) 0.05/2.70. Took 14.61 sec\n",
            "Epoch 21, Acc(train/val): 99.96/37.51, Loss(train/val) 0.05/2.72. Took 14.99 sec\n",
            "Epoch 22, Acc(train/val): 99.96/36.98, Loss(train/val) 0.05/2.72. Took 14.24 sec\n",
            "Epoch 23, Acc(train/val): 99.94/36.15, Loss(train/val) 0.05/2.80. Took 14.35 sec\n",
            "Epoch 24, Acc(train/val): 99.96/36.96, Loss(train/val) 0.05/2.75. Took 14.32 sec\n",
            "Epoch 25, Acc(train/val): 99.96/36.14, Loss(train/val) 0.05/2.78. Took 14.30 sec\n",
            "Epoch 26, Acc(train/val): 99.96/36.02, Loss(train/val) 0.05/2.80. Took 14.38 sec\n",
            "Epoch 27, Acc(train/val): 99.97/36.01, Loss(train/val) 0.05/2.82. Took 14.45 sec\n",
            "Epoch 28, Acc(train/val): 99.96/36.42, Loss(train/val) 0.05/2.80. Took 15.17 sec\n",
            "Epoch 29, Acc(train/val): 99.96/35.61, Loss(train/val) 0.05/2.82. Took 14.75 sec\n",
            "Epoch 30, Acc(train/val): 99.98/36.81, Loss(train/val) 0.05/2.76. Took 14.52 sec\n",
            "Epoch 31, Acc(train/val): 99.98/35.12, Loss(train/val) 0.04/2.87. Took 14.63 sec\n",
            "Epoch 32, Acc(train/val): 99.96/34.99, Loss(train/val) 0.05/2.86. Took 14.34 sec\n",
            "Epoch 33, Acc(train/val): 99.97/32.67, Loss(train/val) 0.05/3.01. Took 14.43 sec\n",
            "Epoch 34, Acc(train/val): 99.22/23.75, Loss(train/val) 0.16/3.78. Took 15.27 sec\n",
            "Epoch 35, Acc(train/val): 78.68/23.73, Loss(train/val) 0.92/3.58. Took 14.98 sec\n",
            "Epoch 36, Acc(train/val): 93.21/32.47, Loss(train/val) 0.37/3.09. Took 14.44 sec\n",
            "Epoch 37, Acc(train/val): 99.22/36.84, Loss(train/val) 0.10/2.83. Took 14.43 sec\n",
            "Epoch 38, Acc(train/val): 99.92/37.91, Loss(train/val) 0.03/2.75. Took 14.52 sec\n",
            "Epoch 39, Acc(train/val): 99.97/38.56, Loss(train/val) 0.03/2.71. Took 14.50 sec\n",
            "Epoch 40, Acc(train/val): 99.98/38.50, Loss(train/val) 0.03/2.67. Took 14.74 sec\n",
            "Epoch 41, Acc(train/val): 99.98/38.83, Loss(train/val) 0.03/2.66. Took 15.16 sec\n",
            "Epoch 42, Acc(train/val): 99.97/38.90, Loss(train/val) 0.03/2.65. Took 14.27 sec\n",
            "Epoch 43, Acc(train/val): 99.98/38.75, Loss(train/val) 0.03/2.66. Took 14.59 sec\n",
            "Epoch 44, Acc(train/val): 99.99/38.72, Loss(train/val) 0.03/2.68. Took 14.54 sec\n",
            "Epoch 45, Acc(train/val): 99.98/38.92, Loss(train/val) 0.03/2.66. Took 14.35 sec\n",
            "Epoch 46, Acc(train/val): 99.98/38.66, Loss(train/val) 0.04/2.69. Took 14.79 sec\n",
            "Epoch 47, Acc(train/val): 99.98/38.59, Loss(train/val) 0.04/2.68. Took 15.62 sec\n",
            "Epoch 48, Acc(train/val): 99.98/38.53, Loss(train/val) 0.04/2.70. Took 14.28 sec\n",
            "Epoch 49, Acc(train/val): 99.98/38.32, Loss(train/val) 0.04/2.71. Took 14.51 sec\n",
            "Epoch 50, Acc(train/val): 99.97/37.94, Loss(train/val) 0.04/2.72. Took 14.72 sec\n",
            "Epoch 51, Acc(train/val): 99.98/38.13, Loss(train/val) 0.04/2.71. Took 14.39 sec\n",
            "Epoch 52, Acc(train/val): 99.98/37.71, Loss(train/val) 0.04/2.74. Took 14.55 sec\n",
            "Epoch 53, Acc(train/val): 99.98/36.57, Loss(train/val) 0.04/2.82. Took 14.87 sec\n",
            "Epoch 54, Acc(train/val): 99.99/37.96, Loss(train/val) 0.04/2.74. Took 14.77 sec\n",
            "Epoch 55, Acc(train/val): 99.98/34.30, Loss(train/val) 0.04/2.93. Took 14.41 sec\n",
            "Epoch 56, Acc(train/val): 99.97/36.04, Loss(train/val) 0.05/2.81. Took 14.47 sec\n",
            "Epoch 57, Acc(train/val): 99.95/35.35, Loss(train/val) 0.05/2.86. Took 14.15 sec\n",
            "Epoch 58, Acc(train/val): 99.85/27.49, Loss(train/val) 0.08/3.47. Took 14.24 sec\n",
            "Epoch 59, Acc(train/val): 84.14/22.94, Loss(train/val) 0.76/3.57. Took 14.36 sec\n",
            "Epoch 60, Acc(train/val): 81.52/27.55, Loss(train/val) 0.77/3.27. Took 14.45 sec\n",
            "Epoch 61, Acc(train/val): 96.84/33.17, Loss(train/val) 0.21/3.11. Took 14.51 sec\n",
            "Epoch 62, Acc(train/val): 99.69/36.96, Loss(train/val) 0.06/2.82. Took 14.07 sec\n",
            "Epoch 63, Acc(train/val): 99.94/38.44, Loss(train/val) 0.03/2.73. Took 14.05 sec\n",
            "Epoch 64, Acc(train/val): 99.97/38.94, Loss(train/val) 0.02/2.70. Took 14.31 sec\n",
            "Epoch 65, Acc(train/val): 99.97/38.95, Loss(train/val) 0.02/2.67. Took 14.24 sec\n",
            "Epoch 66, Acc(train/val): 99.97/39.27, Loss(train/val) 0.03/2.66. Took 14.11 sec\n",
            "Epoch 67, Acc(train/val): 99.97/38.77, Loss(train/val) 0.03/2.67. Took 14.55 sec\n",
            "Epoch 68, Acc(train/val): 99.97/38.85, Loss(train/val) 0.03/2.67. Took 15.05 sec\n",
            "Epoch 69, Acc(train/val): 99.98/39.19, Loss(train/val) 0.03/2.66. Took 14.42 sec\n",
            "Epoch 70, Acc(train/val): 99.98/38.65, Loss(train/val) 0.04/2.68. Took 13.83 sec\n",
            "Epoch 71, Acc(train/val): 99.97/38.77, Loss(train/val) 0.04/2.67. Took 14.07 sec\n",
            "Epoch 72, Acc(train/val): 99.98/39.07, Loss(train/val) 0.04/2.69. Took 14.44 sec\n",
            "Epoch 73, Acc(train/val): 99.98/38.88, Loss(train/val) 0.04/2.68. Took 14.06 sec\n",
            "Epoch 74, Acc(train/val): 99.98/39.17, Loss(train/val) 0.04/2.69. Took 13.82 sec\n",
            "Epoch 75, Acc(train/val): 99.98/38.32, Loss(train/val) 0.04/2.72. Took 14.14 sec\n",
            "Epoch 76, Acc(train/val): 99.98/38.60, Loss(train/val) 0.04/2.72. Took 14.65 sec\n",
            "Epoch 77, Acc(train/val): 99.99/38.41, Loss(train/val) 0.04/2.72. Took 14.26 sec\n",
            "Epoch 78, Acc(train/val): 99.98/38.08, Loss(train/val) 0.04/2.75. Took 13.85 sec\n",
            "Epoch 79, Acc(train/val): 99.98/38.09, Loss(train/val) 0.04/2.74. Took 13.88 sec\n",
            "Epoch 80, Acc(train/val): 99.98/37.99, Loss(train/val) 0.04/2.75. Took 13.87 sec\n"
          ]
        },
        {
          "output_type": "error",
          "ename": "KeyboardInterrupt",
          "evalue": "",
          "traceback": [
            "\u001b[0;31m---------------------------------------------------------------------------\u001b[0m",
            "\u001b[0;31mKeyboardInterrupt\u001b[0m                         Traceback (most recent call last)",
            "\u001b[0;32m<ipython-input-11-51122b36d57b>\u001b[0m in \u001b[0;36m<cell line: 29>\u001b[0;34m()\u001b[0m\n\u001b[1;32m     27\u001b[0m \u001b[0margs\u001b[0m\u001b[0;34m.\u001b[0m\u001b[0mtest_batch_size\u001b[0m \u001b[0;34m=\u001b[0m \u001b[0;36m1024\u001b[0m \u001b[0;31m# test_batch_size\u001b[0m\u001b[0;34m\u001b[0m\u001b[0;34m\u001b[0m\u001b[0m\n\u001b[1;32m     28\u001b[0m \u001b[0;34m\u001b[0m\u001b[0m\n\u001b[0;32m---> 29\u001b[0;31m \u001b[0msetting\u001b[0m\u001b[0;34m,\u001b[0m \u001b[0mresult\u001b[0m \u001b[0;34m=\u001b[0m \u001b[0mexperiment\u001b[0m\u001b[0;34m(\u001b[0m\u001b[0mpartition\u001b[0m\u001b[0;34m,\u001b[0m \u001b[0margs\u001b[0m\u001b[0;34m)\u001b[0m\u001b[0;34m\u001b[0m\u001b[0;34m\u001b[0m\u001b[0m\n\u001b[0m\u001b[1;32m     30\u001b[0m \u001b[0msave_exp_result\u001b[0m\u001b[0;34m(\u001b[0m\u001b[0msetting\u001b[0m\u001b[0;34m,\u001b[0m \u001b[0mresult\u001b[0m\u001b[0;34m)\u001b[0m\u001b[0;34m\u001b[0m\u001b[0;34m\u001b[0m\u001b[0m\n",
            "\u001b[0;32m<ipython-input-9-18510e8f8e61>\u001b[0m in \u001b[0;36mexperiment\u001b[0;34m(partition, args)\u001b[0m\n\u001b[1;32m     30\u001b[0m     \u001b[0;32mfor\u001b[0m \u001b[0mepoch\u001b[0m \u001b[0;32min\u001b[0m \u001b[0mrange\u001b[0m\u001b[0;34m(\u001b[0m\u001b[0margs\u001b[0m\u001b[0;34m.\u001b[0m\u001b[0mepoch\u001b[0m\u001b[0;34m)\u001b[0m\u001b[0;34m:\u001b[0m  \u001b[0;31m# loop over the dataset multiple times\u001b[0m\u001b[0;34m\u001b[0m\u001b[0;34m\u001b[0m\u001b[0m\n\u001b[1;32m     31\u001b[0m         \u001b[0mts\u001b[0m \u001b[0;34m=\u001b[0m \u001b[0mtime\u001b[0m\u001b[0;34m.\u001b[0m\u001b[0mtime\u001b[0m\u001b[0;34m(\u001b[0m\u001b[0;34m)\u001b[0m  \u001b[0;31m# 학습시간을 계산하기 위해 초기 시간 기록\u001b[0m\u001b[0;34m\u001b[0m\u001b[0;34m\u001b[0m\u001b[0m\n\u001b[0;32m---> 32\u001b[0;31m         \u001b[0mnet\u001b[0m\u001b[0;34m,\u001b[0m \u001b[0mtrain_loss\u001b[0m\u001b[0;34m,\u001b[0m \u001b[0mtrain_acc\u001b[0m \u001b[0;34m=\u001b[0m \u001b[0mtrain\u001b[0m\u001b[0;34m(\u001b[0m\u001b[0mnet\u001b[0m\u001b[0;34m,\u001b[0m \u001b[0mpartition\u001b[0m\u001b[0;34m,\u001b[0m \u001b[0moptimizer\u001b[0m\u001b[0;34m,\u001b[0m \u001b[0mcriterion\u001b[0m\u001b[0;34m,\u001b[0m \u001b[0margs\u001b[0m\u001b[0;34m)\u001b[0m \u001b[0;31m# 위에서 정의 한 train function 호출\u001b[0m\u001b[0;34m\u001b[0m\u001b[0;34m\u001b[0m\u001b[0m\n\u001b[0m\u001b[1;32m     33\u001b[0m         \u001b[0mval_loss\u001b[0m\u001b[0;34m,\u001b[0m \u001b[0mval_acc\u001b[0m \u001b[0;34m=\u001b[0m \u001b[0mvalidate\u001b[0m\u001b[0;34m(\u001b[0m\u001b[0mnet\u001b[0m\u001b[0;34m,\u001b[0m \u001b[0mpartition\u001b[0m\u001b[0;34m,\u001b[0m \u001b[0mcriterion\u001b[0m\u001b[0;34m,\u001b[0m \u001b[0margs\u001b[0m\u001b[0;34m)\u001b[0m \u001b[0;31m# 위에서 정의한 validation\u001b[0m\u001b[0;34m\u001b[0m\u001b[0;34m\u001b[0m\u001b[0m\n\u001b[1;32m     34\u001b[0m         \u001b[0mte\u001b[0m \u001b[0;34m=\u001b[0m \u001b[0mtime\u001b[0m\u001b[0;34m.\u001b[0m\u001b[0mtime\u001b[0m\u001b[0;34m(\u001b[0m\u001b[0;34m)\u001b[0m \u001b[0;31m# 종료 시간 -> 한번 학습이 돌아갔을때의 시간 (te - ts -> 학습시간)\u001b[0m\u001b[0;34m\u001b[0m\u001b[0;34m\u001b[0m\u001b[0m\n",
            "\u001b[0;32m<ipython-input-7-9ac39cee1823>\u001b[0m in \u001b[0;36mtrain\u001b[0;34m(net, partition, optimizer, criterion, args)\u001b[0m\n\u001b[1;32m     23\u001b[0m         \u001b[0moptimizer\u001b[0m\u001b[0;34m.\u001b[0m\u001b[0mstep\u001b[0m\u001b[0;34m(\u001b[0m\u001b[0;34m)\u001b[0m \u001b[0;31m# optimizer step\u001b[0m\u001b[0;34m\u001b[0m\u001b[0;34m\u001b[0m\u001b[0m\n\u001b[1;32m     24\u001b[0m \u001b[0;34m\u001b[0m\u001b[0m\n\u001b[0;32m---> 25\u001b[0;31m         \u001b[0mtrain_loss\u001b[0m \u001b[0;34m+=\u001b[0m \u001b[0mloss\u001b[0m\u001b[0;34m.\u001b[0m\u001b[0mitem\u001b[0m\u001b[0;34m(\u001b[0m\u001b[0;34m)\u001b[0m \u001b[0;31m# loss를 추가\u001b[0m\u001b[0;34m\u001b[0m\u001b[0;34m\u001b[0m\u001b[0m\n\u001b[0m\u001b[1;32m     26\u001b[0m         \u001b[0m_\u001b[0m\u001b[0;34m,\u001b[0m \u001b[0mpredicted\u001b[0m \u001b[0;34m=\u001b[0m \u001b[0mtorch\u001b[0m\u001b[0;34m.\u001b[0m\u001b[0mmax\u001b[0m\u001b[0;34m(\u001b[0m\u001b[0moutputs\u001b[0m\u001b[0;34m.\u001b[0m\u001b[0mdata\u001b[0m\u001b[0;34m,\u001b[0m \u001b[0;36m1\u001b[0m\u001b[0;34m)\u001b[0m \u001b[0;31m# output에서 가장 높은 확률값의 class 선택\u001b[0m\u001b[0;34m\u001b[0m\u001b[0;34m\u001b[0m\u001b[0m\n\u001b[1;32m     27\u001b[0m         \u001b[0mtotal\u001b[0m \u001b[0;34m+=\u001b[0m \u001b[0mlabels\u001b[0m\u001b[0;34m.\u001b[0m\u001b[0msize\u001b[0m\u001b[0;34m(\u001b[0m\u001b[0;36m0\u001b[0m\u001b[0;34m)\u001b[0m \u001b[0;31m# 데이터 수 업데이트\u001b[0m\u001b[0;34m\u001b[0m\u001b[0;34m\u001b[0m\u001b[0m\n",
            "\u001b[0;31mKeyboardInterrupt\u001b[0m: "
          ]
        }
      ]
    }
  ]
}
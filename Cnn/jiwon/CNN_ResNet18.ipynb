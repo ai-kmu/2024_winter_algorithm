{
  "nbformat": 4,
  "nbformat_minor": 0,
  "metadata": {
    "colab": {
      "provenance": [],
      "gpuType": "V100",
      "machine_shape": "hm"
    },
    "kernelspec": {
      "name": "python3",
      "display_name": "Python 3"
    },
    "language_info": {
      "name": "python"
    },
    "accelerator": "GPU"
  },
  "cells": [
    {
      "cell_type": "markdown",
      "source": [
        "# 0. 필요 라이브러리 import"
      ],
      "metadata": {
        "id": "dDNeLaov-0fm"
      }
    },
    {
      "cell_type": "code",
      "source": [
        "import os\n",
        "import pickle\n",
        "import numpy as np\n",
        "import torch\n",
        "import torch.nn as nn\n",
        "import torch.optim as optim\n",
        "import torch.nn.init as init\n",
        "import torch.nn.functional as F\n",
        "from torch.utils.data import Dataset, DataLoader, random_split\n",
        "from torchvision import transforms, utils\n",
        "import matplotlib.pyplot as plt\n",
        "from PIL import Image\n",
        "import random\n",
        "import tqdm\n",
        "from tqdm.auto import trange\n",
        "import time\n",
        "import hashlib\n",
        "import json\n",
        "from os import listdir\n",
        "from os.path import isfile, join\n",
        "import pandas as pd\n",
        "from torch.optim.lr_scheduler import CosineAnnealingLR"
      ],
      "metadata": {
        "id": "mDANhpLU-2eu"
      },
      "execution_count": 1,
      "outputs": []
    },
    {
      "cell_type": "markdown",
      "source": [
        "# 1. Data 준비"
      ],
      "metadata": {
        "id": "nu2-pln80lCW"
      }
    },
    {
      "cell_type": "markdown",
      "source": [
        "## 1-1. Custom Dataloader 구현"
      ],
      "metadata": {
        "id": "T8vVfYfhFZvW"
      }
    },
    {
      "cell_type": "code",
      "source": [
        "class CustomCIFAR100Loader(Dataset):\n",
        "    # ====== 초기화\n",
        "    def __init__(self, root_dir, meta_file, train=True, transform=None):\n",
        "        self.root_dir = root_dir  # 데이터셋 경로 지정\n",
        "        self.transform = transform  # 데이터에 적용할 변환\n",
        "\n",
        "        # 메타 데이터 파일에서 클래스 이름 로드\n",
        "        with open(meta_file, 'rb') as f:\n",
        "            meta_dict = pickle.load(f, encoding='bytes')\n",
        "        self.category = [x.decode('utf-8') for x in meta_dict[b'fine_label_names']]\n",
        "\n",
        "        # 데이터셋 파일 선택 및 데이터 불러오기\n",
        "        file_path = os.path.join(self.root_dir, 'train' if train else 'test')\n",
        "        with open(file_path, 'rb') as f:\n",
        "            data_dict = pickle.load(f, encoding='bytes')\n",
        "\n",
        "        self.data = data_dict[b'data']\n",
        "        self.labels = np.array(data_dict[b'fine_labels'])\n",
        "\n",
        "        # (이미지 개수, 3, 32, 32) 형태로 변환\n",
        "        self.data = self.data.reshape(-1, 3, 32, 32).transpose(0, 2, 3, 1)\n",
        "\n",
        "\n",
        "    # ====== 데이터 길이 반환\n",
        "    def __len__(self):\n",
        "        return len(self.data)\n",
        "\n",
        "\n",
        "    # ====== 하나의 data를 반환\n",
        "    def __getitem__(self, idx):\n",
        "        image = self.data[idx]\n",
        "        label = self.labels[idx]  # label 번호\n",
        "        category = self.category[label]  # label에 해당하는 직접적인 class name\n",
        "\n",
        "        if self.transform:\n",
        "            image = self.transform(Image.fromarray(image))\n",
        "        return image, label"
      ],
      "metadata": {
        "id": "eU2Swzi83ocz"
      },
      "execution_count": 2,
      "outputs": []
    },
    {
      "cell_type": "markdown",
      "source": [
        "## 1-2. Dataset 다운로드 및 Dataloader 설정"
      ],
      "metadata": {
        "id": "SYng9-10FeYb"
      }
    },
    {
      "cell_type": "code",
      "source": [
        "# ===== 데이터셋을 위한 별도의 디렉토리 생성\n",
        "os.makedirs('/content/dataset')\n",
        "os.chdir('/content/dataset')\n",
        "\n",
        "\n",
        "# ===== CIFAR100 데이터셋 준비\n",
        "!wget https://www.cs.toronto.edu/~kriz/cifar-100-python.tar.gz && \\\n",
        "tar -xzvf 'cifar-100-python.tar.gz'\n",
        "\n",
        "# 데이터셋 경로와 메타 파일 경로 설정\n",
        "root_dir = './cifar-100-python'\n",
        "meta_file = './cifar-100-python/meta'\n",
        "\n",
        "\n",
        "# ===== 데이터에 적용할 변환 설정\n",
        "transform = transforms.Compose([\n",
        "    transforms.ToTensor(),  # 텐서로 변환\n",
        "    transforms.Normalize((0.5, 0.5, 0.5), (0.5, 0.5, 0.5))  # 정규화\n",
        "])\n",
        "\n",
        "\n",
        "# ===== 데이터셋 생성 (Only train data)\n",
        "dataset = CustomCIFAR100Loader(root_dir=root_dir, meta_file=meta_file, train=True, transform=transform)\n",
        "\n",
        "# 가져온 5만 장의 train data를 4:1로 분할\n",
        "train_data, val_data = random_split(dataset, [40000, 10000])\n",
        "\n",
        "\n",
        "# ===== 각각 dataloader 설정\n",
        "# 이때 train은 데이터를 무작위로 섞어 일반화 성능을 높일 수 있도록 shuffle=True로 설정\n",
        "# validation은 검증의 일관성을 유지할 수 있도록 shuffle=False로 설정\n",
        "train_loader = DataLoader(train_data, batch_size=4, shuffle=True)\n",
        "val_loader = DataLoader(val_data, batch_size=4, shuffle=False)"
      ],
      "metadata": {
        "colab": {
          "base_uri": "https://localhost:8080/"
        },
        "id": "g3DDdApd95Hz",
        "outputId": "08d8af8d-e689-44f0-fe8e-6598ce697a18"
      },
      "execution_count": 3,
      "outputs": [
        {
          "output_type": "stream",
          "name": "stdout",
          "text": [
            "--2024-02-29 14:23:37--  https://www.cs.toronto.edu/~kriz/cifar-100-python.tar.gz\n",
            "Resolving www.cs.toronto.edu (www.cs.toronto.edu)... 128.100.3.30\n",
            "Connecting to www.cs.toronto.edu (www.cs.toronto.edu)|128.100.3.30|:443... connected.\n",
            "HTTP request sent, awaiting response... 200 OK\n",
            "Length: 169001437 (161M) [application/x-gzip]\n",
            "Saving to: ‘cifar-100-python.tar.gz’\n",
            "\n",
            "cifar-100-python.ta 100%[===================>] 161.17M  8.67MB/s    in 2m 7s   \n",
            "\n",
            "2024-02-29 14:25:46 (1.27 MB/s) - ‘cifar-100-python.tar.gz’ saved [169001437/169001437]\n",
            "\n",
            "cifar-100-python/\n",
            "cifar-100-python/file.txt~\n",
            "cifar-100-python/train\n",
            "cifar-100-python/test\n",
            "cifar-100-python/meta\n"
          ]
        }
      ]
    },
    {
      "cell_type": "markdown",
      "source": [
        "## 1-3. Data Visualization"
      ],
      "metadata": {
        "id": "I6cMx9UEBd7-"
      }
    },
    {
      "cell_type": "code",
      "source": [
        "# ===== train dataset의 첫 번째 배치에서 무작위로 이미지 4개 선택\n",
        "images, labels = next(iter(train_loader))\n",
        "all_idx = list(range(len(images)))  # 가능한 모든 인덱스 (batch size에 따라 달라짐)\n",
        "random_idx = random.sample(all_idx, 4)  # 4개의 인덱스를 무작위로 선택\n",
        "\n",
        "fig, axs = plt.subplots(1, 4, figsize=(12, 3))\n",
        "\n",
        "for i, idx in enumerate(random_idx):\n",
        "    image = images[idx] / 2 + 0.5  # 정규화된 pixel을 원래 범위로 되돌리기\n",
        "    image = image.numpy()\n",
        "\n",
        "    # pytorch image format인 CHW를 matplotlib에서 사용할 수 있는 HWC format으로 변환\n",
        "    axs[i].imshow(np.transpose(image, (1, 2, 0)))\n",
        "    axs[i].set_title('{} ({})'.format(dataset.category[labels[idx]], labels[idx]))\n",
        "    axs[i].axis('off')  # 축 없애기\n",
        "\n",
        "\n",
        "# ===== class label과 함께 이미지 출력\n",
        "plt.show()"
      ],
      "metadata": {
        "colab": {
          "base_uri": "https://localhost:8080/",
          "height": 178
        },
        "id": "L6ExOsrh-ioN",
        "outputId": "18cd0fb4-0701-4be8-fcaa-e4b27bf2acb6"
      },
      "execution_count": 4,
      "outputs": [
        {
          "output_type": "display_data",
          "data": {
            "text/plain": [
              "<Figure size 1200x300 with 4 Axes>"
            ],
            "image/png": "[encoded data removed]"
          },
          "metadata": {}
        }
      ]
    },
    {
      "cell_type": "markdown",
      "source": [
        "# 2. CNN 모델 구현: ResNet-50"
      ],
      "metadata": {
        "id": "vk8tXd5TJKTz"
      }
    },
    {
      "cell_type": "markdown",
      "source": [
        "## 2-1. Basic Module\n",
        "> 자주 사용하게 될 conv1와 conv3 블럭을 별도로 먼저 구현하고, 이후 이를 포함한 basic module을 생성"
      ],
      "metadata": {
        "id": "9y-2WX3oJgS8"
      }
    },
    {
      "cell_type": "markdown",
      "source": [
        "### 2-1-1. Conv 1\\*1 layer와 Conv 3\\*3 layer 구현"
      ],
      "metadata": {
        "id": "yI7HPItAQCve"
      }
    },
    {
      "cell_type": "code",
      "source": [
        "def conv_1x1(in_channels, out_channels, stride = 1):\n",
        "    return nn.Conv2d(\n",
        "        in_channels,\n",
        "        out_channels,\n",
        "        kernel_size = 1,\n",
        "        stride = stride,\n",
        "        bias = False\n",
        "    )\n",
        "\n",
        "\n",
        "def conv_3x3(in_channels, out_channels, stride = 1):\n",
        "    return nn.Conv2d(\n",
        "        in_channels,\n",
        "        out_channels,\n",
        "        kernel_size = 3,\n",
        "        stride = stride,\n",
        "        padding = 1,\n",
        "        bias = False\n",
        "    )"
      ],
      "metadata": {
        "id": "9MSaDtg5-4bp"
      },
      "execution_count": 5,
      "outputs": []
    },
    {
      "cell_type": "markdown",
      "source": [
        "### 2-1-2. Basic module 구현"
      ],
      "metadata": {
        "id": "86p8_WqdQNAx"
      }
    },
    {
      "cell_type": "code",
      "source": [
        "class BasicBlock(nn.Module):\n",
        "    # 출력 채널 수에 대한 확장 비율\n",
        "    # BasicBlock의 입력 채널 수와 출력 채널 수는 동일하게 유지되어야 하므로 1\n",
        "    expansion = 1\n",
        "\n",
        "\n",
        "    def __init__(self, in_channels, out_channels, stride = 1, downsample = None):\n",
        "        super(BasicBlock, self).__init__()\n",
        "\n",
        "        # 첫 번째 Conv layer (3x3) + Batch Normalization\n",
        "        self.conv1 = conv_3x3(in_channels, out_channels, stride)\n",
        "        self.bn1 = nn.BatchNorm2d(out_channels)\n",
        "\n",
        "        # 두 번째 Conv layer (3x3) + Batch Normalization\n",
        "        self.conv2 = conv_3x3(out_channels, out_channels)\n",
        "        self.bn2 = nn.BatchNorm2d(out_channels)\n",
        "\n",
        "        self.relu = nn.ReLU(inplace=True)\n",
        "        self.downsample = downsample  # 입출력 차원 맞추기\n",
        "        self.stride = stride\n",
        "\n",
        "\n",
        "    def forward(self, x):\n",
        "        identity = x  # 잔차\n",
        "\n",
        "        # 첫 번째 Conv, Batch Norm, ReLU\n",
        "        out = self.conv1(x)\n",
        "        out = self.bn1(out)\n",
        "        out = self.relu(out)\n",
        "\n",
        "        # 두 번째 Conv, Batch Norm\n",
        "        out = self.conv2(out)\n",
        "        out = self.bn2(out)\n",
        "\n",
        "        # Downsampling 정의된 경우 잔차에 적용\n",
        "        if self.downsample is not None:\n",
        "            identity = self.downsample(x)\n",
        "\n",
        "        # Residual connection 및 activation function 적용\n",
        "        out += identity\n",
        "        out = self.relu(out)\n",
        "\n",
        "        return out"
      ],
      "metadata": {
        "id": "6TeDP2ADQBTg"
      },
      "execution_count": 6,
      "outputs": []
    },
    {
      "cell_type": "markdown",
      "source": [
        "## 2-2. Bottleneck Module"
      ],
      "metadata": {
        "id": "4YMgvOGqVnou"
      }
    },
    {
      "cell_type": "code",
      "source": [
        "class Bottleneck(nn.Module):\n",
        "    # 출력 채널 수에 대한 확장 비율\n",
        "    # Bottleneck에서는 출력 채널 수가 입력 채널 수의 4배가 됨\n",
        "    expansion = 4\n",
        "\n",
        "\n",
        "    def __init__(self, in_channels, out_channels, stride = 1, downsample = None):\n",
        "        super(Bottleneck, self).__init__()\n",
        "\n",
        "        # 첫 번째 Conv layer (1x1) + Batch Normalization\n",
        "        self.conv1 = conv_1x1(in_channels, out_channels)\n",
        "        self.bn1 = nn.BatchNorm2d(out_channels)\n",
        "\n",
        "        # 두 번째 Conv layer (3x3) + Batch Normalization\n",
        "        # 여기서 stride를 통한 다운샘플링 적용 가능\n",
        "        self.conv2 = conv_3x3(out_channels, out_channels, stride)\n",
        "        self.bn2 = nn.BatchNorm2d(out_channels)\n",
        "\n",
        "        # 세 번째 Conv layer (1x1) + Batch Normalization: 출력 채널 수 확장\n",
        "        self.conv3 = conv_1x1(out_channels, out_channels * self.expansion)\n",
        "        self.bn3 = nn.BatchNorm2d(out_channels * self.expansion)\n",
        "\n",
        "        self.relu = nn.ReLU(inplace=True)\n",
        "        self.downsample = downsample  # 입출력 차원 맞추기\n",
        "        self.stride = stride\n",
        "\n",
        "\n",
        "    def forward(self, x):\n",
        "        identity = x  # 잔차\n",
        "\n",
        "        # 첫 번째 Conv, Batch Norm, ReLU\n",
        "        out = self.conv1(x)\n",
        "        out = self.bn1(out)\n",
        "        out = self.relu(out)\n",
        "\n",
        "        # 두 번째 Conv, Batch Norm, ReLU\n",
        "        out = self.conv2(out)\n",
        "        out = self.bn2(out)\n",
        "        out = self.relu(out)\n",
        "\n",
        "        # 세 번째 Conv, Batch Norm\n",
        "        out = self.conv3(out)\n",
        "        out = self.bn3(out)\n",
        "\n",
        "        # 다운샘플링이 정의된 경우, 잔차에 적용\n",
        "        if self.downsample is not None:\n",
        "            identity = self.downsample(x)\n",
        "\n",
        "        # 잔차 연결 및 최종 ReLU\n",
        "        out += identity\n",
        "        out = self.relu(out)\n",
        "\n",
        "        return out"
      ],
      "metadata": {
        "id": "V2PRLXdRVzf2"
      },
      "execution_count": 7,
      "outputs": []
    },
    {
      "cell_type": "markdown",
      "source": [
        "## 2-3. ResNet"
      ],
      "metadata": {
        "id": "bm01U5t4WsKk"
      }
    },
    {
      "cell_type": "code",
      "source": [
        "class ResNet(nn.Module):\n",
        "    def __init__(self, block, layers, num_classes = 1000, zero_init_residual=False):\n",
        "        super(ResNet, self).__init__()\n",
        "        # 초기 layer 및 activation function, pooling 설정\n",
        "        self.in_channels = 64\n",
        "        self.conv1 = nn.Conv2d(3, 64, kernel_size = 7, stride = 2, padding = 3, bias = False)\n",
        "        self.bn1 = nn.BatchNorm2d(64)\n",
        "        self.relu = nn.ReLU(inplace=True)\n",
        "        self.maxpool = nn.MaxPool2d(kernel_size = 3, stride = 2, padding = 1)\n",
        "\n",
        "\n",
        "        # ResNet layer 생성\n",
        "        self.layer1 = self._make_layer(block, 64, layers[0])\n",
        "        self.layer2 = self._make_layer(block, 128, layers[1], stride = 2)\n",
        "        self.layer3 = self._make_layer(block, 256, layers[2], stride = 2)\n",
        "        self.layer4 = self._make_layer(block, 512, layers[3], stride = 2)\n",
        "\n",
        "        self.avgpool = nn.AdaptiveAvgPool2d((1, 1))\n",
        "        self.fc = nn.Linear(512 * block.expansion, num_classes)\n",
        "\n",
        "        # 가중치 초기화 (별도 함수 구현)\n",
        "        for m in self.modules():\n",
        "            if isinstance(m, nn.Conv2d):\n",
        "                nn.init.kaiming_normal_(m.weight, mode='fan_out', nonlinearity='relu')\n",
        "            elif isinstance(m, nn.BatchNorm2d):\n",
        "                nn.init.constant_(m.weight, 1)\n",
        "                nn.init.constant_(m.bias, 0)\n",
        "\n",
        "        if zero_init_residual:\n",
        "            for m in self.modules():\n",
        "                if isinstance(m, Bottleneck):\n",
        "                    nn.init.constant_(m.bn3.weight, 0)\n",
        "                elif isinstance(m, BasicBlock):\n",
        "                    nn.init.constant_(m.bn2.weight, 0)\n",
        "\n",
        "\n",
        "\n",
        "    def _make_layer(self, block, out_channels, blocks, stride = 1):\n",
        "        downsample = None\n",
        "\n",
        "        # stride가 1이 아니거나 입출력 채널 사이즈가 다를 경우 다운샘플링\n",
        "        if stride != 1 or self.in_channels != out_channels * block.expansion:\n",
        "            downsample = nn.Sequential(\n",
        "                conv_1x1(self.in_channels, out_channels * block.expansion, stride),\n",
        "                nn.BatchNorm2d(out_channels * block.expansion),\n",
        "            )\n",
        "\n",
        "        layers = []\n",
        "        layers.append(block(self.in_channels, out_channels, stride, downsample))\n",
        "        self.in_channels = out_channels * block.expansion\n",
        "        for _ in range(1, blocks):\n",
        "            layers.append(block(self.in_channels, out_channels))\n",
        "\n",
        "        return nn.Sequential(*layers)\n",
        "\n",
        "\n",
        "    def forward(self, x):\n",
        "        # 초기 layer 통과\n",
        "        x = self.conv1(x)\n",
        "        x = self.bn1(x)\n",
        "        x = self.relu(x)\n",
        "        x = self.maxpool(x)\n",
        "\n",
        "        # ResNet layer 통과\n",
        "        x = self.layer1(x)\n",
        "        x = self.layer2(x)\n",
        "        x = self.layer3(x)\n",
        "        x = self.layer4(x)\n",
        "\n",
        "        # 최종 layer 통과\n",
        "        x = self.avgpool(x)\n",
        "        x = torch.flatten(x, 1)\n",
        "        x = self.fc(x)\n",
        "\n",
        "        return x\n"
      ],
      "metadata": {
        "id": "UZ-eExEiWr7l"
      },
      "execution_count": 8,
      "outputs": []
    },
    {
      "cell_type": "markdown",
      "source": [
        "# 3. Train, Validate, Test and Experiment"
      ],
      "metadata": {
        "id": "PN1SY1IqhBPN"
      }
    },
    {
      "cell_type": "code",
      "source": [
        "def train(model, data_loader, optimizer, criterion):\n",
        "    # 모델을 학습 모드로 설정\n",
        "    model.train()\n",
        "\n",
        "    # 초기화\n",
        "    correct = 0\n",
        "    total = 0\n",
        "    train_loss = 0.0\n",
        "\n",
        "    device = torch.device('cuda' if torch.cuda.is_available() else 'cpu')\n",
        "\n",
        "    for inputs, labels in data_loader:\n",
        "        # GPU로 데이터 이동\n",
        "        inputs, labels = inputs.to(device), labels.to(device)\n",
        "\n",
        "        optimizer.zero_grad() # optimizer 초기화\n",
        "\n",
        "        # output, loss 계산\n",
        "        outputs = model(inputs)\n",
        "        loss = criterion(outputs, labels)\n",
        "\n",
        "        # 역전파 계산 및 최적화\n",
        "        loss.backward()\n",
        "        optimizer.step()\n",
        "\n",
        "        # train loss와 acc 계산\n",
        "        train_loss += loss.item()\n",
        "        _, predicted = torch.max(outputs, 1)\n",
        "        total += labels.size(0)\n",
        "        correct += (predicted == labels).sum().item()\n",
        "\n",
        "    # 평균 train loss 및 acc 계산\n",
        "    train_loss /= len(data_loader)\n",
        "    train_acc = 100 * correct / total\n",
        "\n",
        "    return model, train_loss, train_acc\n",
        "\n",
        "\n",
        "def validate(model, data_loader, criterion):\n",
        "    # 모델을 평가 모드로 전환\n",
        "    model.eval()\n",
        "\n",
        "    # 초기화\n",
        "    val_loss = 0\n",
        "    correct = 0\n",
        "    total = 0\n",
        "\n",
        "    device = torch.device('cuda' if torch.cuda.is_available() else 'cpu')\n",
        "\n",
        "    with torch.no_grad():\n",
        "        for images, labels in data_loader:\n",
        "            images, labels = images.to(device), labels.to(device)\n",
        "\n",
        "            # output loss 계산\n",
        "            outputs = model(images)\n",
        "            loss = criterion(outputs, labels)\n",
        "\n",
        "            # val loss 및 acc 계산\n",
        "            val_loss += loss.item()\n",
        "            _, predicted = torch.max(outputs, 1)\n",
        "            total += labels.size(0)\n",
        "            correct += (predicted == labels).sum().item()\n",
        "\n",
        "    # 평균 val loss 및 acc 계산\n",
        "    val_loss /= len(data_loader)\n",
        "    val_acc = 100 * correct / total\n",
        "\n",
        "    return val_loss, val_acc\n"
      ],
      "metadata": {
        "id": "DU68_NdpihFG"
      },
      "execution_count": 9,
      "outputs": []
    },
    {
      "cell_type": "code",
      "source": [
        "def experiment(args):\n",
        "    device = torch.device('cuda' if torch.cuda.is_available() else 'cpu')\n",
        "\n",
        "    # ResNet-18 모델 초기화\n",
        "    model = ResNet(Bottleneck, [2, 2, 2, 2], num_classes = 1000).to(device)\n",
        "\n",
        "    # loss는 CrossEntropy\n",
        "    criterion = nn.CrossEntropyLoss()\n",
        "\n",
        "    # optimizer 설정\n",
        "    if args.optim == 'SGD':\n",
        "        optimizer = optim.SGD(model.parameters(), lr=args.lr, weight_decay=args.l2)\n",
        "    elif args.optim == 'RMSprop':\n",
        "        optimizer = optim.RMSprop(model.parameters(), lr=args.lr, weight_decay=args.l2)\n",
        "    elif args.optim == 'Adam':\n",
        "        optimizer = optim.Adam(model.parameters(), lr=args.lr, weight_decay=args.l2)\n",
        "\n",
        "    # 학습률 스케줄러 지정\n",
        "    scheduler = CosineAnnealingLR(optimizer, T_max=30, eta_min=0.001)\n",
        "\n",
        "    # 결과 저장 리스트 초기화\n",
        "    train_losses, val_losses, train_accs, val_accs = [], [], [], []\n",
        "\n",
        "    # epoch 만큼 반복\n",
        "    for epoch in range(args.epoch):\n",
        "        start_time = time.time()  # 시작 시간\n",
        "\n",
        "        model, train_loss, train_acc = train(model, train_loader, optimizer, criterion)\n",
        "        val_loss, val_acc = validate(model, val_loader, criterion)\n",
        "        scheduler.step()\n",
        "\n",
        "        end_time = time.time()  # 끝 시간 기록 후 계산\n",
        "\n",
        "        # 결과를 각각 생성해둔 리스트에 추가\n",
        "        train_losses.append(train_loss)\n",
        "        val_losses.append(val_loss)\n",
        "        train_accs.append(train_acc)\n",
        "        val_accs.append(val_acc)\n",
        "\n",
        "        print(f'Epoch {epoch}, Acc(train/val): {train_acc:.2f}/{val_acc:.2f}, Loss(train/val): {train_loss:.2f}/{val_loss:.2f}. Took {end_time-start_time:.2f} sec')\n",
        "\n",
        "\n",
        "    # 계산된 결과 저장 및 반환\n",
        "    result = {\n",
        "        'train_losses': train_losses,\n",
        "        'val_losses': val_losses,\n",
        "        'train_accs': train_accs,\n",
        "        'val_accs': val_accs,\n",
        "        'train_acc': train_acc,\n",
        "        'val_acc': val_acc\n",
        "    }\n",
        "\n",
        "    # 최종 모델 가중치 저장\n",
        "    weight_save_path = f\"saved_weights_final_epoch_{args.epoch}.pth\"  # 최종 파일명 생성\n",
        "    torch.save(model.state_dict(), weight_save_path)\n",
        "\n",
        "    return vars(args), result"
      ],
      "metadata": {
        "id": "sKZaA1p9juj0"
      },
      "execution_count": 10,
      "outputs": []
    },
    {
      "cell_type": "code",
      "source": [
        "class Args:\n",
        "    lr = 0.1  # learning rate\n",
        "    l2 = 1e-4  # weight decay\n",
        "    epoch = 30\n",
        "    train_batch_size = 512\n",
        "    test_batch_size = 1024\n",
        "    optim = 'SGD'\n",
        "    exp_name = 'exp1'\n",
        "\n",
        "\n",
        "args = Args()"
      ],
      "metadata": {
        "id": "4lxW2pilj83N"
      },
      "execution_count": 11,
      "outputs": []
    },
    {
      "cell_type": "code",
      "source": [
        "# ===== 실험 설정 및 결과 저장\n",
        "def save_exp_result(setting, result):\n",
        "    # 실험 이름 설정\n",
        "    exp_name = args.exp_name\n",
        "    # 해시 함수를 통해 파일 이름을 생성\n",
        "    hash_key = hashlib.sha1(str(setting).encode()).hexdigest()[:6]\n",
        "    filename = './results/{}-{}.json'.format(exp_name, hash_key)\n",
        "\n",
        "    # 결과에 실험 설정을 추가 후 저장\n",
        "    result.update(setting)\n",
        "    with open(filename, 'w') as f:\n",
        "        json.dump(result, f)\n",
        "\n",
        "\n",
        "# 저장된 실험 이름에 해당하는 실험 결과 로드하여 DataFrame으로 반환\n",
        "def load_exp_result(exp_name):\n",
        "    # 결과 파일이 저장된 디렉토리 목록 가져오기\n",
        "    dir_path = './results'\n",
        "    filenames = [f for f in listdir(dir_path) if isfile(join(dir_path, f)) if '.json' in f]\n",
        "\n",
        "    # 지정된 실험 이름을 포함하는 파일의 결과를 리스트에 저장\n",
        "    list_result = []\n",
        "    for filename in filenames:\n",
        "        if exp_name in filename:\n",
        "            with open(join(dir_path, filename), 'r') as infile:\n",
        "                results = json.load(infile)\n",
        "                list_result.append(results)\n",
        "\n",
        "    # 저장된 결과 리스트를 DataFrame으로 변환하여 반환\n",
        "    df = pd.DataFrame(list_result) # .drop(columns=[])\n",
        "    return df"
      ],
      "metadata": {
        "id": "5ZjM30evrhvY"
      },
      "execution_count": 20,
      "outputs": []
    },
    {
      "cell_type": "code",
      "source": [
        "# 실험 설정 및 결과 저장\n",
        "os.makedirs('./results')\n",
        "setting, result = experiment(args)\n",
        "save_exp_result(setting, result)"
      ],
      "metadata": {
        "colab": {
          "base_uri": "https://localhost:8080/",
          "height": 935
        },
        "id": "AZtYRKWylYFt",
        "outputId": "a3af447a-69e9-4a6c-af59-9d04d9fa7448"
      },
      "execution_count": 13,
      "outputs": [
        {
          "output_type": "stream",
          "name": "stdout",
          "text": [
            "Epoch 0, Acc(train/val): 1.88/2.69, Loss(train/val): 5.10/9.04. Took 139.62 sec\n",
            "Epoch 1, Acc(train/val): 2.87/4.25, Loss(train/val): 4.52/4.83. Took 137.90 sec\n",
            "Epoch 2, Acc(train/val): 4.22/6.15, Loss(train/val): 4.38/5.22. Took 136.90 sec\n",
            "Epoch 3, Acc(train/val): 5.18/7.52, Loss(train/val): 4.31/4.39. Took 137.15 sec\n",
            "Epoch 4, Acc(train/val): 5.50/7.32, Loss(train/val): 4.26/4.14. Took 137.18 sec\n",
            "Epoch 5, Acc(train/val): 6.86/9.75, Loss(train/val): 4.16/4.11. Took 137.41 sec\n",
            "Epoch 6, Acc(train/val): 8.34/12.85, Loss(train/val): 4.04/3.83. Took 137.51 sec\n",
            "Epoch 7, Acc(train/val): 9.96/12.99, Loss(train/val): 3.95/3.89. Took 137.63 sec\n",
            "Epoch 8, Acc(train/val): 11.49/14.88, Loss(train/val): 3.84/3.63. Took 139.40 sec\n",
            "Epoch 9, Acc(train/val): 12.94/16.46, Loss(train/val): 3.75/3.66. Took 136.58 sec\n",
            "Epoch 10, Acc(train/val): 14.58/18.61, Loss(train/val): 3.65/3.45. Took 137.19 sec\n",
            "Epoch 11, Acc(train/val): 16.00/20.96, Loss(train/val): 3.57/3.33. Took 137.71 sec\n",
            "Epoch 12, Acc(train/val): 17.58/20.82, Loss(train/val): 3.49/3.28. Took 140.19 sec\n",
            "Epoch 13, Acc(train/val): 18.66/21.43, Loss(train/val): 3.41/3.29. Took 138.75 sec\n",
            "Epoch 14, Acc(train/val): 20.07/24.03, Loss(train/val): 3.33/3.16. Took 138.95 sec\n",
            "Epoch 15, Acc(train/val): 21.57/24.95, Loss(train/val): 3.24/3.10. Took 141.63 sec\n",
            "Epoch 16, Acc(train/val): 23.10/25.86, Loss(train/val): 3.16/3.05. Took 142.28 sec\n",
            "Epoch 17, Acc(train/val): 25.03/27.02, Loss(train/val): 3.07/2.97. Took 144.16 sec\n",
            "Epoch 18, Acc(train/val): 26.73/28.10, Loss(train/val): 2.97/2.90. Took 140.59 sec\n",
            "Epoch 19, Acc(train/val): 28.12/29.68, Loss(train/val): 2.89/2.88. Took 138.34 sec\n",
            "Epoch 20, Acc(train/val): 30.10/31.23, Loss(train/val): 2.80/2.79. Took 137.22 sec\n",
            "Epoch 21, Acc(train/val): 32.17/32.45, Loss(train/val): 2.69/2.71. Took 138.46 sec\n",
            "Epoch 22, Acc(train/val): 34.12/33.84, Loss(train/val): 2.59/2.65. Took 137.62 sec\n",
            "Epoch 23, Acc(train/val): 36.37/34.23, Loss(train/val): 2.50/2.63. Took 138.19 sec\n",
            "Epoch 24, Acc(train/val): 38.30/35.74, Loss(train/val): 2.40/2.58. Took 136.97 sec\n",
            "Epoch 25, Acc(train/val): 40.50/36.40, Loss(train/val): 2.30/2.54. Took 136.97 sec\n",
            "Epoch 26, Acc(train/val): 42.27/36.96, Loss(train/val): 2.21/2.53. Took 137.36 sec\n",
            "Epoch 27, Acc(train/val): 44.22/37.79, Loss(train/val): 2.13/2.49. Took 137.24 sec\n",
            "Epoch 28, Acc(train/val): 45.66/38.06, Loss(train/val): 2.06/2.49. Took 137.38 sec\n",
            "Epoch 29, Acc(train/val): 46.30/37.66, Loss(train/val): 2.02/2.49. Took 137.44 sec\n"
          ]
        },
        {
          "output_type": "error",
          "ename": "KeyError",
          "evalue": "'exp_name'",
          "traceback": [
            "\u001b[0;31m---------------------------------------------------------------------------\u001b[0m",
            "\u001b[0;31mKeyError\u001b[0m                                  Traceback (most recent call last)",
            "\u001b[0;32m<ipython-input-13-5c69e5315885>\u001b[0m in \u001b[0;36m<cell line: 4>\u001b[0;34m()\u001b[0m\n\u001b[1;32m      2\u001b[0m \u001b[0mos\u001b[0m\u001b[0;34m.\u001b[0m\u001b[0mmakedirs\u001b[0m\u001b[0;34m(\u001b[0m\u001b[0;34m'./results'\u001b[0m\u001b[0;34m)\u001b[0m\u001b[0;34m\u001b[0m\u001b[0;34m\u001b[0m\u001b[0m\n\u001b[1;32m      3\u001b[0m \u001b[0msetting\u001b[0m\u001b[0;34m,\u001b[0m \u001b[0mresult\u001b[0m \u001b[0;34m=\u001b[0m \u001b[0mexperiment\u001b[0m\u001b[0;34m(\u001b[0m\u001b[0margs\u001b[0m\u001b[0;34m)\u001b[0m\u001b[0;34m\u001b[0m\u001b[0;34m\u001b[0m\u001b[0m\n\u001b[0;32m----> 4\u001b[0;31m \u001b[0msave_exp_result\u001b[0m\u001b[0;34m(\u001b[0m\u001b[0msetting\u001b[0m\u001b[0;34m,\u001b[0m \u001b[0mresult\u001b[0m\u001b[0;34m)\u001b[0m\u001b[0;34m\u001b[0m\u001b[0;34m\u001b[0m\u001b[0m\n\u001b[0m\u001b[1;32m      5\u001b[0m \u001b[0;34m\u001b[0m\u001b[0m\n\u001b[1;32m      6\u001b[0m \u001b[0;31m# 최종 결과 출력\u001b[0m\u001b[0;34m\u001b[0m\u001b[0;34m\u001b[0m\u001b[0m\n",
            "\u001b[0;32m<ipython-input-12-f7f5679c1ca4>\u001b[0m in \u001b[0;36msave_exp_result\u001b[0;34m(setting, result)\u001b[0m\n\u001b[1;32m      2\u001b[0m \u001b[0;32mdef\u001b[0m \u001b[0msave_exp_result\u001b[0m\u001b[0;34m(\u001b[0m\u001b[0msetting\u001b[0m\u001b[0;34m,\u001b[0m \u001b[0mresult\u001b[0m\u001b[0;34m)\u001b[0m\u001b[0;34m:\u001b[0m\u001b[0;34m\u001b[0m\u001b[0;34m\u001b[0m\u001b[0m\n\u001b[1;32m      3\u001b[0m     \u001b[0;31m# 실험 설정에서 epoch 및 test_batch_size 제거\u001b[0m\u001b[0;34m\u001b[0m\u001b[0;34m\u001b[0m\u001b[0m\n\u001b[0;32m----> 4\u001b[0;31m     \u001b[0mexp_name\u001b[0m \u001b[0;34m=\u001b[0m \u001b[0msetting\u001b[0m\u001b[0;34m[\u001b[0m\u001b[0;34m'exp_name'\u001b[0m\u001b[0;34m]\u001b[0m\u001b[0;34m\u001b[0m\u001b[0;34m\u001b[0m\u001b[0m\n\u001b[0m\u001b[1;32m      5\u001b[0m     \u001b[0;32mdel\u001b[0m \u001b[0msetting\u001b[0m\u001b[0;34m[\u001b[0m\u001b[0;34m'epoch'\u001b[0m\u001b[0;34m]\u001b[0m\u001b[0;34m\u001b[0m\u001b[0;34m\u001b[0m\u001b[0m\n\u001b[1;32m      6\u001b[0m     \u001b[0;32mdel\u001b[0m \u001b[0msetting\u001b[0m\u001b[0;34m[\u001b[0m\u001b[0;34m'test_batch_size'\u001b[0m\u001b[0;34m]\u001b[0m\u001b[0;34m\u001b[0m\u001b[0;34m\u001b[0m\u001b[0m\n",
            "\u001b[0;31mKeyError\u001b[0m: 'exp_name'"
          ]
        }
      ]
    },
    {
      "cell_type": "code",
      "source": [
        "save_exp_result(setting, result)"
      ],
      "metadata": {
        "id": "ef1ZZwNWnzXr",
        "colab": {
          "base_uri": "https://localhost:8080/"
        },
        "outputId": "4ed192f7-9446-4ac7-f75a-aae6d5d89e83"
      },
      "execution_count": 21,
      "outputs": [
        {
          "output_type": "stream",
          "name": "stdout",
          "text": [
            "\n",
            "===============================\n",
            "Final Training Accuracy: 46.3025\n",
            "Final Validation Accuracy: 37.66\n"
          ]
        }
      ]
    },
    {
      "cell_type": "code",
      "source": [],
      "metadata": {
        "id": "WQ4t4usZhB8m"
      },
      "execution_count": null,
      "outputs": []
    }
  ]
}
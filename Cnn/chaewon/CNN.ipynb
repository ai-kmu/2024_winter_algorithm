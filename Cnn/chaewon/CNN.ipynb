{
  "nbformat": 4,
  "nbformat_minor": 0,
  "metadata": {
    "colab": {
      "provenance": [],
      "gpuType": "V100"
    },
    "kernelspec": {
      "name": "python3",
      "display_name": "Python 3"
    },
    "language_info": {
      "name": "python"
    },
    "accelerator": "GPU"
  },
  "cells": [
    {
      "cell_type": "code",
      "source": [
        "# 필요한 라이브러리 import\n",
        "\n",
        "import os\n",
        "import urllib.request\n",
        "import tarfile\n",
        "import pickle\n",
        "import numpy as np\n",
        "import matplotlib.pyplot as plt\n",
        "import torch\n",
        "import torch.optim as optim\n",
        "import time\n",
        "import argparse\n",
        "import torch\n",
        "import torch.nn as nn\n",
        "from copy import deepcopy\n",
        "from torchvision import transforms\n",
        "from torch.optim.lr_scheduler import StepLR, LambdaLR\n",
        "from sklearn.model_selection import train_test_split"
      ],
      "metadata": {
        "id": "BMPeLreyEJ9u"
      },
      "execution_count": 1,
      "outputs": []
    },
    {
      "cell_type": "code",
      "source": [
        "# dataset 다운로드\n",
        "\n",
        "url = \"https://www.cs.toronto.edu/~kriz/cifar-100-python.tar.gz\"\n",
        "filename = \"cifar-100-python.tar.gz\"\n",
        "file_path = os.path.join(os.getcwd(), filename)\n",
        "if not os.path.isfile(file_path):\n",
        "    urllib.request.urlretrieve(url, file_path)\n",
        "    with tarfile.open(file_path, \"r:gz\") as tar:\n",
        "        tar.extractall(path=os.getcwd())"
      ],
      "metadata": {
        "id": "6V0KqH708FDQ"
      },
      "execution_count": null,
      "outputs": []
    },
    {
      "cell_type": "code",
      "source": [
        "# meta data laod\n",
        "# 클래스 정보\n",
        "\n",
        "file_path = os.path.join(os.getcwd(), \"cifar-100-python\")\n",
        "with open(file_path+\"/meta\", \"rb\") as infile:\n",
        "    data = pickle.load(infile, encoding=\"bytes\")\n",
        "    classes = data[\"fine_label_names\"]"
      ],
      "metadata": {
        "id": "7vt384l1EFre"
      },
      "execution_count": 3,
      "outputs": []
    },
    {
      "cell_type": "code",
      "source": [
        "# train data load\n",
        "\n",
        "def unpickle(file):\n",
        "    with open(file, \"rb\") as fo:\n",
        "        dict = pickle.load(fo, encoding=\"bytes\")\n",
        "    return dict\n",
        "\n",
        "train = unpickle(file_path+\"/train\")\n",
        "\n",
        "# train과 validation set 분할\n",
        "# 분할 비율은 7:3 (유동적으로 조절 가능)\n",
        "x_train, x_val, y_train, y_val = train_test_split(train[b\"data\"], train[b\"fine_labels\"], test_size=0.3)"
      ],
      "metadata": {
        "id": "gS_shd-cE_7I"
      },
      "execution_count": 4,
      "outputs": []
    },
    {
      "cell_type": "code",
      "source": [
        "# 이미지와 label 출력 확인\n",
        "\n",
        "def show_img(index): # 이미지와 label이 제대로 매칭되어 있는지 확인 위해 출력\n",
        "    train_img, train_target = x_train[index], classes[y_train[index]]\n",
        "    val_img, val_target = x_val[index], classes[y_val[index]]\n",
        "\n",
        "    train_img = np.reshape(train_img, (3, 32, 32))\n",
        "    train_img = train_img.transpose(1, 2, 0)\n",
        "    val_img = np.reshape(val_img, (3, 32, 32))\n",
        "    val_img = val_img.transpose(1, 2, 0)\n",
        "\n",
        "    plt.subplot(1, 2, 1)\n",
        "    plt.imshow(train_img)\n",
        "    plt.title(\"train img: \" + train_target)\n",
        "    plt.subplot(1, 2, 2)\n",
        "    plt.imshow(val_img)\n",
        "    plt.title(\"val img: \" + val_target)\n",
        "    plt.show()\n",
        "\n",
        "show_img(0)"
      ],
      "metadata": {
        "colab": {
          "base_uri": "https://localhost:8080/",
          "height": 308
        },
        "id": "7v6ctSDtA1gG",
        "outputId": "de952545-63fa-4329-95fc-1b372561b777"
      },
      "execution_count": 5,
      "outputs": [
        {
          "output_type": "display_data",
          "data": {
            "text/plain": [
              "<Figure size 640x480 with 2 Axes>"
            ],
            "image/png": "[encoded data removed]"
          },
          "metadata": {}
        }
      ]
    },
    {
      "cell_type": "code",
      "execution_count": 6,
      "metadata": {
        "id": "NahUoa9D1R0E"
      },
      "outputs": [],
      "source": [
        "# 데이터를 tensor 형태로 변환\n",
        "\n",
        "transform = transforms.Compose([\n",
        "    transforms.ToTensor(), # 텐서 형태로 변환\n",
        "    transforms.RandomHorizontalFlip(), # data augmentation 적용\n",
        "    transforms.Normalize((0.5, 0.5, 0.5), (0.5, 0.5, 0.5)) # data normalization 적용\n",
        "])\n",
        "\n",
        "class CustomCIFAR100Dataset():\n",
        "    def __init__(self, data, labels, transform=None):\n",
        "        data = np.reshape(data, (-1, 3, 32, 32))\n",
        "        data = data.transpose((0, 2, 3, 1))\n",
        "        self.data = data # 데이터\n",
        "        self.labels = labels # 라벨\n",
        "        self.transform = transform # 적용할 transform\n",
        "\n",
        "    def __getitem__(self, idx): # index에 해당되는 data와 label 반환\n",
        "        img, target = self.data[idx], self.labels[idx]\n",
        "\n",
        "        if self.transform:\n",
        "            img = self.transform(img)\n",
        "\n",
        "        return img, target\n",
        "\n",
        "    def __len__(self): # 전체 길이 반환\n",
        "        return len(self.data)"
      ]
    },
    {
      "cell_type": "code",
      "source": [
        "trainset = CustomCIFAR100Dataset(x_train, y_train, transform) # train dataset 생성\n",
        "valset = CustomCIFAR100Dataset(x_val, y_val, transform) # validation dataset 생성\n",
        "\n",
        "partition = {\"train\": trainset, \"val\":valset} # 이후 학습 단계(train/val)에 따라 알맞은 dataset 불러오기"
      ],
      "metadata": {
        "id": "YIT-o2e2SLMP"
      },
      "execution_count": 7,
      "outputs": []
    },
    {
      "cell_type": "code",
      "source": [
        "# VGG16 구조\n",
        "# M은 pooling layer, 숫자는 dimension을 의미\n",
        "# 이후 다른 VGG에도 적용 가능하도록 큰 구조를 리스트 형식으로 생성\n",
        "vgg16_structure = [64, 64, \"M\", 128, 128, \"M\", 256, 256, 256, \"M\", 512, 512, 512, \"M\", 512, 512, 512, \"M\"]\n",
        "\n",
        "class VGG16(nn.Module):\n",
        "    def __init__(self, structure, num_classes = 100, use_bn=True):\n",
        "        super(VGG16, self).__init__()\n",
        "        self.layers = self.make_layers(structure, 3, use_bn)\n",
        "        self.classifier = nn.Sequential(\n",
        "            nn.Linear(512, 256),\n",
        "            nn.ReLU(inplace=True),\n",
        "            nn.Dropout(),\n",
        "            nn.Linear(256, num_classes),\n",
        "        )\n",
        "\n",
        "    def make_layers(self, structure, in_channels, use_bn):\n",
        "        layers = []\n",
        "        for f in structure: # VGG16 구조에 따라 layer 생성\n",
        "            if f == \"M\": # max pool\n",
        "                layers += [nn.MaxPool2d(kernel_size=2, stride=2)]\n",
        "            else: # convolution layer\n",
        "                layers.append(nn.Conv2d(in_channels=in_channels, out_channels=f, kernel_size=3, padding=1))\n",
        "                layers.append(nn.ReLU())\n",
        "                in_channels = f\n",
        "\n",
        "                if use_bn: # batch normalization 적용 여부\n",
        "                    layers.append(nn.BatchNorm2d(f))\n",
        "                    layers.append(nn.ReLU()) # 활성화 함수는 batch norm 뒤에 적용\n",
        "        return nn.Sequential(*layers)\n",
        "\n",
        "    def forward(self, x):\n",
        "        x = self.layers(x)\n",
        "        x = torch.flatten(x, 1)\n",
        "        x = self.classifier(x)\n",
        "        return x\n",
        "\n",
        "# 모델 생성\n",
        "net = VGG16(vgg16_structure)\n",
        "\n",
        "# 모델 정보 출력\n",
        "print(net)"
      ],
      "metadata": {
        "colab": {
          "base_uri": "https://localhost:8080/"
        },
        "id": "6h3YC9g2SKuO",
        "outputId": "c151f7f8-665b-4a5e-9d1d-0da79da5d521"
      },
      "execution_count": 8,
      "outputs": [
        {
          "output_type": "stream",
          "name": "stdout",
          "text": [
            "VGG16(\n",
            "  (layers): Sequential(\n",
            "    (0): Conv2d(3, 64, kernel_size=(3, 3), stride=(1, 1), padding=(1, 1))\n",
            "    (1): ReLU()\n",
            "    (2): BatchNorm2d(64, eps=1e-05, momentum=0.1, affine=True, track_running_stats=True)\n",
            "    (3): ReLU()\n",
            "    (4): Conv2d(64, 64, kernel_size=(3, 3), stride=(1, 1), padding=(1, 1))\n",
            "    (5): ReLU()\n",
            "    (6): BatchNorm2d(64, eps=1e-05, momentum=0.1, affine=True, track_running_stats=True)\n",
            "    (7): ReLU()\n",
            "    (8): MaxPool2d(kernel_size=2, stride=2, padding=0, dilation=1, ceil_mode=False)\n",
            "    (9): Conv2d(64, 128, kernel_size=(3, 3), stride=(1, 1), padding=(1, 1))\n",
            "    (10): ReLU()\n",
            "    (11): BatchNorm2d(128, eps=1e-05, momentum=0.1, affine=True, track_running_stats=True)\n",
            "    (12): ReLU()\n",
            "    (13): Conv2d(128, 128, kernel_size=(3, 3), stride=(1, 1), padding=(1, 1))\n",
            "    (14): ReLU()\n",
            "    (15): BatchNorm2d(128, eps=1e-05, momentum=0.1, affine=True, track_running_stats=True)\n",
            "    (16): ReLU()\n",
            "    (17): MaxPool2d(kernel_size=2, stride=2, padding=0, dilation=1, ceil_mode=False)\n",
            "    (18): Conv2d(128, 256, kernel_size=(3, 3), stride=(1, 1), padding=(1, 1))\n",
            "    (19): ReLU()\n",
            "    (20): BatchNorm2d(256, eps=1e-05, momentum=0.1, affine=True, track_running_stats=True)\n",
            "    (21): ReLU()\n",
            "    (22): Conv2d(256, 256, kernel_size=(3, 3), stride=(1, 1), padding=(1, 1))\n",
            "    (23): ReLU()\n",
            "    (24): BatchNorm2d(256, eps=1e-05, momentum=0.1, affine=True, track_running_stats=True)\n",
            "    (25): ReLU()\n",
            "    (26): Conv2d(256, 256, kernel_size=(3, 3), stride=(1, 1), padding=(1, 1))\n",
            "    (27): ReLU()\n",
            "    (28): BatchNorm2d(256, eps=1e-05, momentum=0.1, affine=True, track_running_stats=True)\n",
            "    (29): ReLU()\n",
            "    (30): MaxPool2d(kernel_size=2, stride=2, padding=0, dilation=1, ceil_mode=False)\n",
            "    (31): Conv2d(256, 512, kernel_size=(3, 3), stride=(1, 1), padding=(1, 1))\n",
            "    (32): ReLU()\n",
            "    (33): BatchNorm2d(512, eps=1e-05, momentum=0.1, affine=True, track_running_stats=True)\n",
            "    (34): ReLU()\n",
            "    (35): Conv2d(512, 512, kernel_size=(3, 3), stride=(1, 1), padding=(1, 1))\n",
            "    (36): ReLU()\n",
            "    (37): BatchNorm2d(512, eps=1e-05, momentum=0.1, affine=True, track_running_stats=True)\n",
            "    (38): ReLU()\n",
            "    (39): Conv2d(512, 512, kernel_size=(3, 3), stride=(1, 1), padding=(1, 1))\n",
            "    (40): ReLU()\n",
            "    (41): BatchNorm2d(512, eps=1e-05, momentum=0.1, affine=True, track_running_stats=True)\n",
            "    (42): ReLU()\n",
            "    (43): MaxPool2d(kernel_size=2, stride=2, padding=0, dilation=1, ceil_mode=False)\n",
            "    (44): Conv2d(512, 512, kernel_size=(3, 3), stride=(1, 1), padding=(1, 1))\n",
            "    (45): ReLU()\n",
            "    (46): BatchNorm2d(512, eps=1e-05, momentum=0.1, affine=True, track_running_stats=True)\n",
            "    (47): ReLU()\n",
            "    (48): Conv2d(512, 512, kernel_size=(3, 3), stride=(1, 1), padding=(1, 1))\n",
            "    (49): ReLU()\n",
            "    (50): BatchNorm2d(512, eps=1e-05, momentum=0.1, affine=True, track_running_stats=True)\n",
            "    (51): ReLU()\n",
            "    (52): Conv2d(512, 512, kernel_size=(3, 3), stride=(1, 1), padding=(1, 1))\n",
            "    (53): ReLU()\n",
            "    (54): BatchNorm2d(512, eps=1e-05, momentum=0.1, affine=True, track_running_stats=True)\n",
            "    (55): ReLU()\n",
            "    (56): MaxPool2d(kernel_size=2, stride=2, padding=0, dilation=1, ceil_mode=False)\n",
            "  )\n",
            "  (classifier): Sequential(\n",
            "    (0): Linear(in_features=512, out_features=256, bias=True)\n",
            "    (1): ReLU(inplace=True)\n",
            "    (2): Dropout(p=0.5, inplace=False)\n",
            "    (3): Linear(in_features=256, out_features=100, bias=True)\n",
            "  )\n",
            ")\n"
          ]
        }
      ]
    },
    {
      "cell_type": "code",
      "source": [
        "# GPU 사용 가능일 시 모델을 GPU에 올림\n",
        "# 사용 불가능할 시 그대로 CPU 사용\n",
        "device = torch.device(\"cuda\" if torch.cuda.is_available() else \"cpu\")"
      ],
      "metadata": {
        "id": "naK25NuAWH_9"
      },
      "execution_count": 9,
      "outputs": []
    },
    {
      "cell_type": "code",
      "source": [
        "def train(net, partition, optimizer, criterion, scheduler, args): # train 단계\n",
        "    # 미니배치 단위로 train 데이터 loading\n",
        "    trainloader = torch.utils.data.DataLoader(partition[\"train\"], batch_size=args.train_batch_size, shuffle=True, num_workers=2)\n",
        "    net.train() # 모델을 train 모드로 setting\n",
        "\n",
        "    correct = 0 # 초기화\n",
        "    total = 0 # 초기화\n",
        "    train_loss = 0.0 # 초기화\n",
        "    for i, data in enumerate(trainloader, 0):\n",
        "        optimizer.zero_grad() # 매 반복마다 gradient가 누적되지 않도록 하기 위해서\n",
        "\n",
        "        # get the inputs\n",
        "        inputs, labels = data\n",
        "        inputs = inputs.to(device) # 데이터를 cuda에 올림\n",
        "        labels = labels.to(device) # 데이터를 cuda에 올림\n",
        "        outputs = net(inputs) # 모델을 통해 나온 예측값\n",
        "\n",
        "        loss = criterion(outputs, labels) # 예측값과 실제값 사이의 loss 계산 ()\n",
        "        loss.backward() # back propagation\n",
        "        optimizer.step() # 가중치 업데이트\n",
        "\n",
        "        #scheduler.step()\n",
        "\n",
        "        train_loss += loss.item()\n",
        "        _, predicted = torch.max(outputs.data, 1)\n",
        "        total += labels.size(0)\n",
        "        correct += (predicted == labels).sum().item()\n",
        "\n",
        "    train_loss = train_loss / len(trainloader)\n",
        "    train_acc = 100 * correct / total\n",
        "    return net, train_loss, train_acc"
      ],
      "metadata": {
        "id": "FeLfJWWIX1nn"
      },
      "execution_count": 42,
      "outputs": []
    },
    {
      "cell_type": "code",
      "source": [
        "def validate(net, partition, criterion, args): # validate 단계\n",
        "    valloader = torch.utils.data.DataLoader(partition[\"val\"], batch_size=args.test_batch_size, shuffle=False, num_workers=2)\n",
        "    net.eval() # 모델을 평가 모드로 setting\n",
        "\n",
        "    correct = 0\n",
        "    total = 0\n",
        "    val_loss = 0\n",
        "    with torch.no_grad(): # 더 이상 학습을 하지 않을 것임 (가중치 업데이트는 train 단계에서 모두 종료)\n",
        "        for data in valloader:\n",
        "            images, labels = data\n",
        "            images = images.to(device)\n",
        "            labels = labels.to(device)\n",
        "            outputs = net(images)\n",
        "\n",
        "            loss = criterion(outputs, labels)\n",
        "\n",
        "            val_loss += loss.item()\n",
        "            _, predicted = torch.max(outputs.data, 1)\n",
        "            total += labels.size(0)\n",
        "            correct += (predicted == labels).sum().item()\n",
        "\n",
        "        val_loss = val_loss / len(valloader)\n",
        "        val_acc = 100 * correct / total\n",
        "    return val_loss, val_acc"
      ],
      "metadata": {
        "id": "oK3NtaOHYLf3"
      },
      "execution_count": 11,
      "outputs": []
    },
    {
      "cell_type": "code",
      "source": [
        "def experiment(partition, args):\n",
        "\n",
        "    net = VGG16(vgg16_structure)\n",
        "    net.to(device)\n",
        "\n",
        "    criterion = nn.CrossEntropyLoss() # loss function으로 CE 사용\n",
        "    # optimizer로 SGD / RMSprop / Adam 중 하나를 사용\n",
        "    if args.optim == \"SGD\":\n",
        "        optimizer = optim.SGD(net.parameters(), lr=args.lr, momentum=0.9, nesterov=True, weight_decay=args.l2)\n",
        "    elif args.optim == \"RMSprop\":\n",
        "        optimizer = optim.RMSprop(net.parameters(), lr=args.lr, weight_decay=args.l2)\n",
        "    elif args.optim == \"Adam\":\n",
        "        optimizer = optim.Adam(net.parameters(), lr=args.lr, weight_decay=args.l2)\n",
        "    else:\n",
        "        raise ValueError()\n",
        "\n",
        "    train_losses = []\n",
        "    val_losses = []\n",
        "    train_accs = []\n",
        "    val_accs = []\n",
        "\n",
        "    # scheduler는 사용하지 않게 됨\n",
        "    scheduler = LambdaLR(optimizer, lr_lambda = lambda epoch: 0.95 ** epoch)\n",
        "\n",
        "    for epoch in range(args.epoch): # loop over the dataset multiple times\n",
        "        ts = time.time() # 시작 시간 측정\n",
        "        net, train_loss, train_acc = train(net, partition, optimizer, criterion, scheduler, args) # train 단계의 loss와 accuracy 계산\n",
        "        val_loss, val_acc = validate(net, partition, criterion, args) # validation 단계의 loss와 accuracy 계산\n",
        "        te = time.time() # 종료 시간 측정\n",
        "\n",
        "        train_losses.append(train_loss) # 에폭에 따른 loss 값의 변화 저장\n",
        "        val_losses.append(val_loss) # 에폭에 따른 loss 값의 변화 저장\n",
        "        train_accs.append(train_acc) # 에폭에 따른 accuracy 값의 변화 저장\n",
        "        val_accs.append(val_acc) # 에폭에 따른 accuracy 값의 변화 저장\n",
        "\n",
        "        # 에폭 수에 따른 loss와 accuracy 변화 확인\n",
        "        print(\"Epoch {}, Acc(train/val): {:2.2f}/{:2.2f}, Loss(train/val) {:2.2f}/{:2.2f}. Took {:2.2f}sec\".format(epoch, train_acc, val_acc, train_loss, val_loss, te-ts))\n",
        "\n",
        "    # 결과 저장\n",
        "    result = {}\n",
        "    result[\"train_losses\"] = train_losses\n",
        "    result[\"val_losses\"] = val_losses\n",
        "    result[\"train_accs\"] = train_accs\n",
        "    result[\"val_accs\"] = val_accs\n",
        "    result[\"train_acc\"] = train_acc\n",
        "    result[\"val_acc\"] = val_acc\n",
        "    return vars(args), result"
      ],
      "metadata": {
        "id": "qGGUw8mPagom"
      },
      "execution_count": null,
      "outputs": []
    },
    {
      "cell_type": "code",
      "source": [
        "import hashlib\n",
        "import json\n",
        "from os import listdir\n",
        "from os.path import isfile, join\n",
        "import pandas as pd\n",
        "\n",
        "# 결과 저장\n",
        "def save_exp_result(setting, result):\n",
        "    exp_name = setting[\"exp_name\"]\n",
        "    del setting[\"epoch\"]\n",
        "    del setting[\"test_batch_size\"]\n",
        "\n",
        "    hash_key = hashlib.sha1(str(setting).encode()).hexdigest()[:6] # 해시 함수 사용 > 중복이 발생하지 않도록\n",
        "    filename = \"./results-{}-{}.json\".format(exp_name, hash_key)\n",
        "    result.update(setting)\n",
        "    with open(filename, \"w\") as f:\n",
        "        json.dump(result, f)"
      ],
      "metadata": {
        "id": "HDikqH0pSlhO"
      },
      "execution_count": 13,
      "outputs": []
    },
    {
      "cell_type": "code",
      "source": [
        "parser = argparse.ArgumentParser()\n",
        "args = parser.parse_args(\"\")\n",
        "args.exp_name = \"exp_lr\"\n",
        "\n",
        "args.l2 = 0.007\n",
        "args.optim = \"SGD\"\n",
        "args.lr = 0.009\n",
        "args.epoch = 30\n",
        "args.train_batch_size = 256\n",
        "args.test_batch_size = 512\n",
        "\n",
        "setting, result = experiment(partition, args)\n",
        "save_exp_result(setting, result)"
      ],
      "metadata": {
        "colab": {
          "base_uri": "https://localhost:8080/"
        },
        "id": "YeBy4Uy6ZSwp",
        "outputId": "2dbec28b-294c-4b9d-ca9c-c9ad26be58fa"
      },
      "execution_count": 44,
      "outputs": [
        {
          "output_type": "stream",
          "name": "stdout",
          "text": [
            "Epoch 0, Acc(train/val): 3.18/5.78, Loss(train/val) 4.47/4.26. Took 11.14sec\n",
            "Epoch 1, Acc(train/val): 6.67/8.57, Loss(train/val) 4.11/3.95. Took 10.84sec\n",
            "Epoch 2, Acc(train/val): 10.19/12.05, Loss(train/val) 3.83/3.70. Took 10.60sec\n",
            "Epoch 3, Acc(train/val): 14.02/15.48, Loss(train/val) 3.60/3.53. Took 10.85sec\n",
            "Epoch 4, Acc(train/val): 17.59/19.59, Loss(train/val) 3.38/3.30. Took 9.89sec\n",
            "Epoch 5, Acc(train/val): 21.98/24.15, Loss(train/val) 3.15/3.09. Took 11.66sec\n",
            "Epoch 6, Acc(train/val): 26.54/25.77, Loss(train/val) 2.92/2.97. Took 13.47sec\n",
            "Epoch 7, Acc(train/val): 30.81/30.79, Loss(train/val) 2.70/2.71. Took 10.94sec\n",
            "Epoch 8, Acc(train/val): 34.92/33.39, Loss(train/val) 2.50/2.60. Took 13.21sec\n",
            "Epoch 9, Acc(train/val): 39.16/35.67, Loss(train/val) 2.32/2.52. Took 10.90sec\n",
            "Epoch 10, Acc(train/val): 42.50/38.01, Loss(train/val) 2.18/2.44. Took 12.30sec\n",
            "Epoch 11, Acc(train/val): 45.66/38.67, Loss(train/val) 2.05/2.44. Took 13.71sec\n",
            "Epoch 12, Acc(train/val): 48.96/41.86, Loss(train/val) 1.93/2.26. Took 12.14sec\n",
            "Epoch 13, Acc(train/val): 51.12/39.96, Loss(train/val) 1.83/2.39. Took 13.88sec\n",
            "Epoch 14, Acc(train/val): 53.45/44.01, Loss(train/val) 1.75/2.21. Took 15.85sec\n",
            "Epoch 15, Acc(train/val): 55.62/43.43, Loss(train/val) 1.66/2.25. Took 13.13sec\n",
            "Epoch 16, Acc(train/val): 57.36/44.67, Loss(train/val) 1.60/2.19. Took 13.82sec\n",
            "Epoch 17, Acc(train/val): 59.33/42.07, Loss(train/val) 1.53/2.38. Took 12.78sec\n",
            "Epoch 18, Acc(train/val): 60.71/41.34, Loss(train/val) 1.49/2.43. Took 13.24sec\n",
            "Epoch 19, Acc(train/val): 61.77/48.07, Loss(train/val) 1.44/2.07. Took 16.71sec\n",
            "Epoch 20, Acc(train/val): 63.49/45.83, Loss(train/val) 1.37/2.21. Took 13.79sec\n",
            "Epoch 21, Acc(train/val): 64.66/47.83, Loss(train/val) 1.33/2.10. Took 13.38sec\n",
            "Epoch 22, Acc(train/val): 65.69/45.40, Loss(train/val) 1.30/2.22. Took 12.91sec\n",
            "Epoch 23, Acc(train/val): 66.26/48.66, Loss(train/val) 1.28/2.10. Took 12.94sec\n",
            "Epoch 24, Acc(train/val): 67.33/49.29, Loss(train/val) 1.23/2.05. Took 14.24sec\n",
            "Epoch 25, Acc(train/val): 67.87/47.13, Loss(train/val) 1.22/2.13. Took 13.43sec\n",
            "Epoch 26, Acc(train/val): 68.12/47.80, Loss(train/val) 1.21/2.09. Took 12.99sec\n",
            "Epoch 27, Acc(train/val): 69.11/47.06, Loss(train/val) 1.18/2.21. Took 13.93sec\n",
            "Epoch 28, Acc(train/val): 69.77/49.63, Loss(train/val) 1.15/2.07. Took 12.09sec\n",
            "Epoch 29, Acc(train/val): 70.55/49.43, Loss(train/val) 1.12/2.06. Took 11.04sec\n"
          ]
        }
      ]
    },
    {
      "cell_type": "code",
      "source": [
        "torch.save(net.state_dict(), \"weights_vgg16.pth\")"
      ],
      "metadata": {
        "id": "rS58pOkUARxc"
      },
      "execution_count": 47,
      "outputs": []
    }
  ]
}
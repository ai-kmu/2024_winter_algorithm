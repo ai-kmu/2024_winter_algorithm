{
  "nbformat": 4,
  "nbformat_minor": 0,
  "metadata": {
    "colab": {
      "provenance": [],
      "gpuType": "T4"
    },
    "kernelspec": {
      "name": "python3",
      "display_name": "Python 3"
    },
    "language_info": {
      "name": "python"
    },
    "accelerator": "GPU"
  },
  "cells": [
    {
      "cell_type": "code",
      "source": [
        "!mkdir result"
      ],
      "metadata": {
        "id": "dAYAwCLop8SQ"
      },
      "execution_count": null,
      "outputs": []
    },
    {
      "cell_type": "code",
      "source": [
        "import pickle\n",
        "from sklearn.model_selection import train_test_split\n",
        "import torch\n",
        "import torchvision\n",
        "import torchvision.transforms as transforms\n",
        "import torch.nn as nn\n",
        "import torch.optim as optim\n",
        "import torch.nn.functional as F\n",
        "import numpy as np\n",
        "import matplotlib.pyplot as plt\n",
        "import argparse\n",
        "import time\n",
        "from copy import deepcopy\n",
        "import os"
      ],
      "metadata": {
        "id": "QxaqSY411gfo"
      },
      "execution_count": 1,
      "outputs": []
    },
    {
      "cell_type": "code",
      "source": [
        "os.environ['CUDA_LAUNCH_BLOCKING'] = \"1\"\n",
        "os.environ[\"CUDA_VISIBLE_DEVICES\"] = \"0\""
      ],
      "metadata": {
        "id": "-fRLa7AmR4Bn"
      },
      "execution_count": 2,
      "outputs": []
    },
    {
      "cell_type": "code",
      "source": [
        "#CIFAR-100 다운받고 압축 풀기\n",
        "!wget https://www.cs.toronto.edu/~kriz/cifar-100-python.tar.gz -O /content/cifar-100-python.tar.gz\n",
        "!tar -xzvf \"/content/cifar-100-python.tar.gz\"\n",
        "\n",
        "# 데이터 불러오기\n",
        "def unpickle(file_path):\n",
        "    import pickle\n",
        "    with open(file_path, 'rb') as f:\n",
        "        dict = pickle.load(f, encoding='bytes')\n",
        "    return dict\n",
        "\n",
        "meta = unpickle(\"cifar-100-python/meta\")\n",
        "fine_label_names = list(label.decode('UTF8')for label in meta[b'fine_label_names'])  #label list, len:100\n",
        "trainset = unpickle(\"cifar-100-python/train\")\n",
        "testset = unpickle(\"cifar-100-python/test\")"
      ],
      "metadata": {
        "colab": {
          "base_uri": "https://localhost:8080/"
        },
        "id": "Zlr-y9qvnVSW",
        "outputId": "3fc7fc69-55e6-4177-b0bb-dbd3d513ac11"
      },
      "execution_count": 3,
      "outputs": [
        {
          "output_type": "stream",
          "name": "stdout",
          "text": [
            "--2024-02-29 20:37:04--  https://www.cs.toronto.edu/~kriz/cifar-100-python.tar.gz\n",
            "Resolving www.cs.toronto.edu (www.cs.toronto.edu)... 128.100.3.30\n",
            "Connecting to www.cs.toronto.edu (www.cs.toronto.edu)|128.100.3.30|:443... connected.\n",
            "HTTP request sent, awaiting response... 200 OK\n",
            "Length: 169001437 (161M) [application/x-gzip]\n",
            "Saving to: ‘/content/cifar-100-python.tar.gz’\n",
            "\n",
            "/content/cifar-100- 100%[===================>] 161.17M  50.2MB/s    in 3.6s    \n",
            "\n",
            "2024-02-29 20:37:07 (45.2 MB/s) - ‘/content/cifar-100-python.tar.gz’ saved [169001437/169001437]\n",
            "\n",
            "cifar-100-python/\n",
            "cifar-100-python/file.txt~\n",
            "cifar-100-python/train\n",
            "cifar-100-python/test\n",
            "cifar-100-python/meta\n"
          ]
        }
      ]
    },
    {
      "cell_type": "code",
      "source": [
        "data = trainset[b'data']\n",
        "label = trainset[b'fine_labels']\n",
        "\n",
        "#train data를 train,validation으로 분리\n",
        "train_data,val_data = train_test_split(data,test_size = 0.2,random_state = 1004)\n",
        "train_label,val_label = train_test_split(label,test_size = 0.2, random_state=1004)\n",
        "test_data = testset[b'data']\n",
        "test_label = testset[b'fine_labels']"
      ],
      "metadata": {
        "id": "9IWHZk4eI4cM"
      },
      "execution_count": 5,
      "outputs": []
    },
    {
      "cell_type": "code",
      "source": [
        "#testset 데이터 시각화\n",
        "fig,ax = plt.subplots(1,5,figsize = (10,10))\n",
        "fig.suptitle(\"test set\",y=0.61)\n",
        "fig.tight_layout()\n",
        "for i in range(5):\n",
        "  image = train_data[i].reshape(3,32,32).transpose(1,2,0)\n",
        "  ax[i].set_title(fine_label_names[train_label[i]])\n",
        "  ax[i].imshow(image)\n",
        "plt.show()\n",
        "#validationset 데이터 시각화\n",
        "fig,ax = plt.subplots(1,5,figsize = (10,10))\n",
        "fig.suptitle(\"validation set\",y=0.61)\n",
        "for i in range(5):\n",
        "  image = val_data[i].reshape(3,32,32).transpose(1,2,0)\n",
        "  ax[i].set_title(fine_label_names[val_label[i]])\n",
        "  ax[i].imshow(image)\n",
        "plt.show()"
      ],
      "metadata": {
        "colab": {
          "base_uri": "https://localhost:8080/",
          "height": 472
        },
        "id": "-DjRwgJTSMN0",
        "outputId": "8d52ca42-7225-47a5-bfb8-0579827849a8"
      },
      "execution_count": 6,
      "outputs": [
        {
          "output_type": "display_data",
          "data": {
            "text/plain": [
              "<Figure size 1000x1000 with 5 Axes>"
            ],
            "image/png": "[encoded data removed]"
          },
          "metadata": {}
        },
        {
          "output_type": "display_data",
          "data": {
            "text/plain": [
              "<Figure size 1000x1000 with 5 Axes>"
            ],
            "image/png": "[encoded data removed]"
          },
          "metadata": {}
        }
      ]
    },
    {
      "cell_type": "code",
      "source": [
        "import torch\n",
        "from torch.utils.data import Dataset, DataLoader\n",
        "from torchvision import transforms\n",
        "\n",
        "\n",
        "class CIFAR100_dataset_to_pytorch(Dataset):\n",
        "  def __init__(self,data,labels,transfrom=None):\n",
        "    self.data = data.reshape(-1,3, 32, 32).transpose(0,2,3,1) #data shape 변환\n",
        "    self.labels = labels\n",
        "    self.transform = transform\n",
        "\n",
        "  def __len__(self):\n",
        "    return len(self.data)\n",
        "\n",
        "  def __getitem__(self,idx):\n",
        "    image = self.data[idx]\n",
        "    label = self.labels[idx]\n",
        "\n",
        "    if self.transform: #transform이 주어지면 image를 transform\n",
        "      image = self.transform(image)\n",
        "\n",
        "    return image,label\n"
      ],
      "metadata": {
        "id": "MI0BG6eojs8w"
      },
      "execution_count": 7,
      "outputs": []
    },
    {
      "cell_type": "code",
      "source": [
        "# transtorm 정의 , 평균과 표준편차를 0.5로 설정\n",
        "transform = transforms.Compose(\n",
        "    [transforms.ToTensor(),\n",
        "     transforms.Normalize((0.5, 0.5, 0.5), (0.5, 0.5, 0.5))])\n",
        "\n",
        "train_set = CIFAR100_dataset_to_pytorch(train_data,train_label,transform)\n",
        "val_set = CIFAR100_dataset_to_pytorch(val_data,val_label,transform)\n",
        "\n",
        "partition = {'train': train_set, 'val':val_set}"
      ],
      "metadata": {
        "id": "qqmhlN6YvIlZ"
      },
      "execution_count": 8,
      "outputs": []
    },
    {
      "cell_type": "code",
      "source": [
        "#int : kernel size, M : MaxPooling\n",
        "cfg = {'VGG11': [64, 'M', 128, 'M', 256, 256, 'M', 512, 512, 'M', 512, 512, 'M']}"
      ],
      "metadata": {
        "id": "f7sgYfjhybbI"
      },
      "execution_count": 9,
      "outputs": []
    },
    {
      "cell_type": "code",
      "source": [
        "#CNN 정의\n",
        "class CNN(nn.Module):\n",
        "\n",
        "    def __init__(self, model_code, in_channels, out_dim, act, use_bn):\n",
        "        super(CNN, self).__init__()\n",
        "\n",
        "        #activation 설정\n",
        "        if act == 'relu':\n",
        "            self.act = nn.ReLU()\n",
        "        elif act == 'sigmoid':\n",
        "            self.act = nn.Sigmoid()\n",
        "        elif act == 'tanh':\n",
        "            self.act = nn.TanH()\n",
        "        else:\n",
        "            raise ValueError(\"Not a valid activation function code\")\n",
        "\n",
        "\n",
        "        self.layers = self._make_layers(model_code, in_channels, use_bn) #layer 생성\n",
        "        self.dropout_ = nn.Dropout(0.8) #overfiting 방지\n",
        "        self.classifer = nn.Sequential(nn.Linear(512, 256),\n",
        "                                       self.act,\n",
        "                                       self.dropout_,\n",
        "                                       nn.Linear(256, out_dim))\n",
        "    # forward 정의\n",
        "    def forward(self, x):\n",
        "        x = self.layers(x)\n",
        "        x = x.view(x.size(0), -1)\n",
        "        x = self.classifer(x)\n",
        "        return x\n",
        "\n",
        "    #layer 생성 정의\n",
        "    def _make_layers(self, model_code, in_channels, use_bn):\n",
        "        layers = []\n",
        "        for x in cfg[model_code]:\n",
        "            # x == 'M'이면 maxpooling layer 생성\n",
        "            if x == 'M':\n",
        "                layers += [nn.MaxPool2d(kernel_size=2, stride=2)]\n",
        "            # 숫자면 conv layer 생성\n",
        "            else:\n",
        "                layers += [nn.Conv2d(in_channels=in_channels,\n",
        "                                     out_channels=x,\n",
        "                                     kernel_size=3,\n",
        "                                     stride=1,\n",
        "                                     padding=1)]\n",
        "\n",
        "                # batch norm 사용할 때\n",
        "                if use_bn:\n",
        "                    layers += [nn.BatchNorm2d(x)]\n",
        "                layers += [self.act] #activation func 적용\n",
        "                in_channels = x\n",
        "        return nn.Sequential(*layers)\n"
      ],
      "metadata": {
        "id": "6tk2m6sQ05pK"
      },
      "execution_count": 10,
      "outputs": []
    },
    {
      "cell_type": "code",
      "source": [
        "def train(net, partition, optimizer, criterion, args):\n",
        "    trainloader = torch.utils.data.DataLoader(partition['train'],\n",
        "                                              batch_size=args.train_batch_size,\n",
        "                                              shuffle=True, num_workers=2)\n",
        "    net.train() # train모드로 설정\n",
        "\n",
        "    correct = 0 # 예측중 정답 수\n",
        "    total = 0 # 전체 데이터 수\n",
        "    train_loss = 0.0\n",
        "    for i, data in enumerate(trainloader, 0):\n",
        "        optimizer.zero_grad() #gradient 초기화\n",
        "\n",
        "\n",
        "        inputs, labels = data\n",
        "        inputs = inputs.cuda()\n",
        "        labels = labels.cuda()\n",
        "        outputs = net(inputs)\n",
        "\n",
        "        loss = criterion(outputs, labels)\n",
        "        loss.backward() #backpropagation\n",
        "        optimizer.step()\n",
        "\n",
        "        train_loss += loss.item()\n",
        "        _, predicted = torch.max(outputs.data, 1) #가장 점수가 높은 output의 data 선택\n",
        "        total += labels.size(0)\n",
        "        correct += (predicted == labels).sum().item()\n",
        "\n",
        "    train_loss = train_loss / len(trainloader) # loss 평균\n",
        "    train_acc = 100 * correct / total # train 정확도\n",
        "    return net, train_loss, train_acc"
      ],
      "metadata": {
        "id": "i4w2ft01ID3o"
      },
      "execution_count": 11,
      "outputs": []
    },
    {
      "cell_type": "code",
      "source": [
        "def validate(net,parition,criterion,args):\n",
        "  valloader = torch.utils.data.DataLoader(partition[\"val\"],\n",
        "                                          batch_size=args.test_batch_size,\n",
        "                                          shuffle=False,\n",
        "                                          num_workers=2)\n",
        "\n",
        "  net.eval() # eval()모드로 설정\n",
        "\n",
        "  correct = 0\n",
        "  total = 0\n",
        "  val_loss = 0\n",
        "  with torch.no_grad():\n",
        "    for data in valloader:\n",
        "      images, labels = data\n",
        "      images = images.cuda()\n",
        "      labels = labels.cuda()\n",
        "      outputs = net(images)\n",
        "\n",
        "      loss = criterion(outputs, labels)\n",
        "\n",
        "      val_loss += loss.item()\n",
        "      _, predicted = torch.max(outputs.data ,1)\n",
        "      total += labels.size(0)\n",
        "      correct += (predicted == labels).sum().item()\n",
        "\n",
        "    val_loss = val_loss / len(valloader)\n",
        "    val_acc = 100 * correct / total\n",
        "  return val_loss, val_acc"
      ],
      "metadata": {
        "id": "AgINPzLHJsZ5"
      },
      "execution_count": 12,
      "outputs": []
    },
    {
      "cell_type": "code",
      "source": [
        "def experiment(partition, args):\n",
        "\n",
        "    # CNN 생성\n",
        "    net = CNN(model_code = args.model_code,\n",
        "              in_channels = args.in_channels,\n",
        "              out_dim = args.out_dim,\n",
        "              act = args.act,\n",
        "              use_bn = args.use_bn)\n",
        "    net.cuda()\n",
        "\n",
        "    criterion = nn.CrossEntropyLoss() # loss 계산 방법 선택\n",
        "    if args.optim == 'SGD':\n",
        "        optimizer = optim.SGD(net.parameters(), lr=args.lr, weight_decay=args.l2)\n",
        "    elif args.optim == 'RMSprop':\n",
        "        optimizer = optim.RMSprop(net.parameters(), lr=args.lr, weight_decay=args.l2)\n",
        "    elif args.optim == 'Adam':\n",
        "        optimizer = optim.Adam(net.parameters(), lr=args.lr, weight_decay=args.l2)\n",
        "    else:\n",
        "        raise ValueError('In-valid optimizer choice') # 정의된 optimizer 외 사용\n",
        "\n",
        "    train_losses = []\n",
        "    val_losses = []\n",
        "    train_accs = []\n",
        "    val_accs = []\n",
        "\n",
        "    for epoch in range(args.epoch):\n",
        "        ts = time.time() # 시작시간 기록\n",
        "        net, train_loss, train_acc = train(net, partition, optimizer, criterion, args) # train\n",
        "        val_loss, val_acc = validate(net, partition, criterion, args) # val\n",
        "        te = time.time() # 종료시간 기록\n",
        "\n",
        "        #loss 추가\n",
        "        train_losses.append(train_loss)\n",
        "        val_losses.append(val_loss)\n",
        "        train_accs.append(train_acc)\n",
        "        val_accs.append(val_acc)\n",
        "\n",
        "        print('Epoch {}, Acc(train/val): {:2.2f}/{:2.2f}, Loss(train/val) {:2.2f}/{:2.2f}. Took {:2.2f} sec'.format(epoch, train_acc, val_acc, train_loss, val_loss, te-ts))\n",
        "\n",
        "\n",
        "    # 결과 저장\n",
        "    result = {}\n",
        "    result['train_losses'] = train_losses\n",
        "    result['val_losses'] = val_losses\n",
        "    result['train_accs'] = train_accs\n",
        "    result['val_accs'] = val_accs\n",
        "    result['train_acc'] = train_acc\n",
        "    result['val_acc'] = val_acc\n",
        "\n",
        "    # 가중치 파일\n",
        "    weight_save_path = f\"saved_weights_final_epoch_{args.epoch}.pth\"\n",
        "    torch.save(net.state_dict(), weight_save_path)\n",
        "\n",
        "    return vars(args), result"
      ],
      "metadata": {
        "id": "55MieusJLSyM"
      },
      "execution_count": 24,
      "outputs": []
    },
    {
      "cell_type": "code",
      "source": [
        "import hashlib\n",
        "import json\n",
        "from os import listdir\n",
        "from os.path import isfile, join\n",
        "import pandas as pd\n",
        "\n",
        "def save_exp_result(setting, result):\n",
        "    exp_name = setting[\"exp_name\"]\n",
        "    del setting[\"epoch\"]\n",
        "    del setting[\"test_batch_size\"]\n",
        "\n",
        "    hash_key = hashlib.sha1(str(setting).encode()).hexdigest()[:6]\n",
        "    filename = \"./results-{}-{}.json\".format(exp_name, hash_key)\n",
        "    result.update(setting)\n",
        "    with open(filename, \"w\") as f:\n",
        "        json.dump(result, f)"
      ],
      "metadata": {
        "id": "fg11I0jgMqyO"
      },
      "execution_count": 29,
      "outputs": []
    },
    {
      "cell_type": "code",
      "source": [
        "# ====== Random Seed Initialization ====== #\n",
        "seed = 123\n",
        "np.random.seed(seed)\n",
        "torch.manual_seed(seed)\n",
        "\n",
        "parser = argparse.ArgumentParser()\n",
        "args = parser.parse_args(\"\")\n",
        "args.exp_name = \"exp1_lr_model_code\"\n",
        "\n",
        "# ====== Model ====== #\n",
        "args.model_code = 'VGG11'\n",
        "args.in_channels = 3\n",
        "args.out_dim = 100\n",
        "args.act = 'relu'\n",
        "\n",
        "# ====== Regularization ======= #\n",
        "args.l2 = 0.00001\n",
        "args.use_bn = True\n",
        "\n",
        "# ====== Optimizer & Training ====== #\n",
        "args.optim = 'Adam' #'RMSprop' #SGD, RMSprop, ADAM...\n",
        "args.lr = 0.0001\n",
        "args.epoch = 30\n",
        "\n",
        "args.train_batch_size = 512\n",
        "args.test_batch_size = 1024\n",
        "\n",
        "# ====== Experiment Variable ====== #\n",
        "# name_var1 = 'lr'\n",
        "# name_var2 = 'model_code'\n",
        "# list_var1 = [0.0001, 0.00001]\n",
        "# list_var2 = ['VGG11']\n",
        "\n",
        "\n",
        "# for var1 in list_var1:\n",
        "#     for var2 in list_var2:\n",
        "#         setattr(args, name_var1, var1)\n",
        "#         setattr(args, name_var2, var2)\n",
        "#         print(args)\n",
        "\n",
        "setting, result = experiment(partition, deepcopy(args))\n",
        "save_exp_result(setting, result)"
      ],
      "metadata": {
        "colab": {
          "base_uri": "https://localhost:8080/"
        },
        "id": "-VnX-4NAMj6a",
        "outputId": "3d52af1c-c948-409e-916a-b74ed2692de3"
      },
      "execution_count": null,
      "outputs": [
        {
          "output_type": "stream",
          "name": "stdout",
          "text": [
            "Epoch 0, Acc(train/val): 2.96/9.58, Loss(train/val) 4.52/4.31. Took 11.59 sec\n",
            "Epoch 1, Acc(train/val): 6.32/13.37, Loss(train/val) 4.30/3.99. Took 11.32 sec\n",
            "Epoch 2, Acc(train/val): 10.00/17.89, Loss(train/val) 4.05/3.72. Took 11.25 sec\n",
            "Epoch 3, Acc(train/val): 13.64/23.90, Loss(train/val) 3.80/3.42. Took 11.41 sec\n",
            "Epoch 4, Acc(train/val): 17.89/27.82, Loss(train/val) 3.55/3.18. Took 11.29 sec\n",
            "Epoch 5, Acc(train/val): 21.95/26.04, Loss(train/val) 3.30/3.09. Took 11.45 sec\n",
            "Epoch 6, Acc(train/val): 26.08/32.41, Loss(train/val) 3.07/2.87. Took 11.42 sec\n",
            "Epoch 7, Acc(train/val): 29.84/29.86, Loss(train/val) 2.85/2.90. Took 11.41 sec\n",
            "Epoch 8, Acc(train/val): 34.27/34.74, Loss(train/val) 2.62/2.71. Took 11.47 sec\n",
            "Epoch 9, Acc(train/val): 38.82/36.74, Loss(train/val) 2.38/2.60. Took 11.30 sec\n",
            "Epoch 10, Acc(train/val): 44.03/35.48, Loss(train/val) 2.14/2.62. Took 11.41 sec\n",
            "Epoch 11, Acc(train/val): 48.71/39.44, Loss(train/val) 1.92/2.45. Took 11.10 sec\n",
            "Epoch 12, Acc(train/val): 54.13/38.75, Loss(train/val) 1.67/2.50. Took 11.04 sec\n",
            "Epoch 13, Acc(train/val): 59.67/39.75, Loss(train/val) 1.45/2.42. Took 11.39 sec\n",
            "Epoch 14, Acc(train/val): 65.08/38.40, Loss(train/val) 1.24/2.53. Took 11.41 sec\n",
            "Epoch 15, Acc(train/val): 70.47/39.08, Loss(train/val) 1.05/2.56. Took 11.43 sec\n",
            "Epoch 16, Acc(train/val): 74.71/40.35, Loss(train/val) 0.89/2.47. Took 11.44 sec\n",
            "Epoch 17, Acc(train/val): 79.64/40.06, Loss(train/val) 0.73/2.58. Took 11.32 sec\n",
            "Epoch 18, Acc(train/val): 83.14/41.18, Loss(train/val) 0.62/2.50. Took 11.45 sec\n",
            "Epoch 19, Acc(train/val): 85.51/38.95, Loss(train/val) 0.54/2.80. Took 11.22 sec\n",
            "Epoch 20, Acc(train/val): 88.78/40.37, Loss(train/val) 0.44/2.68. Took 11.41 sec\n",
            "Epoch 21, Acc(train/val): 90.64/39.60, Loss(train/val) 0.37/2.82. Took 11.13 sec\n",
            "Epoch 22, Acc(train/val): 92.43/39.80, Loss(train/val) 0.31/2.94. Took 11.21 sec\n",
            "Epoch 23, Acc(train/val): 94.14/40.02, Loss(train/val) 0.26/2.93. Took 11.47 sec\n",
            "Epoch 24, Acc(train/val): 94.55/40.44, Loss(train/val) 0.23/2.84. Took 11.48 sec\n",
            "Epoch 25, Acc(train/val): 95.18/41.04, Loss(train/val) 0.22/2.91. Took 11.43 sec\n",
            "Epoch 26, Acc(train/val): 95.66/40.76, Loss(train/val) 0.19/2.90. Took 11.44 sec\n",
            "Epoch 27, Acc(train/val): 96.21/39.81, Loss(train/val) 0.18/3.07. Took 11.37 sec\n",
            "Epoch 28, Acc(train/val): 96.57/39.95, Loss(train/val) 0.16/3.04. Took 11.34 sec\n"
          ]
        }
      ]
    },
    {
      "cell_type": "code",
      "source": [
        "from google.colab import files\n",
        "files.download(\"/content/saved_weights_final_epoch_30.pth\")\n"
      ],
      "metadata": {
        "colab": {
          "base_uri": "https://localhost:8080/",
          "height": 17
        },
        "id": "UBWLC-682MQF",
        "outputId": "9c03a4bc-c42e-4f34-aa95-6814a8408a7d"
      },
      "execution_count": 33,
      "outputs": [
        {
          "output_type": "display_data",
          "data": {
            "text/plain": [
              "<IPython.core.display.Javascript object>"
            ],
            "application/javascript": [
              "\n",
              "    async function download(id, filename, size) {\n",
              "      if (!google.colab.kernel.accessAllowed) {\n",
              "        return;\n",
              "      }\n",
              "      const div = document.createElement('div');\n",
              "      const label = document.createElement('label');\n",
              "      label.textContent = `Downloading \"${filename}\": `;\n",
              "      div.appendChild(label);\n",
              "      const progress = document.createElement('progress');\n",
              "      progress.max = size;\n",
              "      div.appendChild(progress);\n",
              "      document.body.appendChild(div);\n",
              "\n",
              "      const buffers = [];\n",
              "      let downloaded = 0;\n",
              "\n",
              "      const channel = await google.colab.kernel.comms.open(id);\n",
              "      // Send a message to notify the kernel that we're ready.\n",
              "      channel.send({})\n",
              "\n",
              "      for await (const message of channel.messages) {\n",
              "        // Send a message to notify the kernel that we're ready.\n",
              "        channel.send({})\n",
              "        if (message.buffers) {\n",
              "          for (const buffer of message.buffers) {\n",
              "            buffers.push(buffer);\n",
              "            downloaded += buffer.byteLength;\n",
              "            progress.value = downloaded;\n",
              "          }\n",
              "        }\n",
              "      }\n",
              "      const blob = new Blob(buffers, {type: 'application/binary'});\n",
              "      const a = document.createElement('a');\n",
              "      a.href = window.URL.createObjectURL(blob);\n",
              "      a.download = filename;\n",
              "      div.appendChild(a);\n",
              "      a.click();\n",
              "      div.remove();\n",
              "    }\n",
              "  "
            ]
          },
          "metadata": {}
        },
        {
          "output_type": "display_data",
          "data": {
            "text/plain": [
              "<IPython.core.display.Javascript object>"
            ],
            "application/javascript": [
              "download(\"download_36e8a37a-d8ab-44aa-8c0c-b5d7ac3f3ccd\", \"saved_weights_final_epoch_40.pth\", 37575202)"
            ]
          },
          "metadata": {}
        }
      ]
    }
  ]
}